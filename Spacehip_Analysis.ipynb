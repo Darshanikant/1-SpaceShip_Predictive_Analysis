{
 "cells": [
  {
   "cell_type": "markdown",
   "id": "c21dbfb5-ac38-4b67-9307-b68d0493e7c7",
   "metadata": {},
   "source": [
    "# Space ship Data analysis\n",
    "- In this competition your task is to predict whether a passenger was transported to an alternate dimension during the Spaceship Titanic's collision with the spacetime anomaly. To help you make these predictions, you're given a set of personal records recovered from the ship's damaged computer system."
   ]
  },
  {
   "cell_type": "markdown",
   "id": "28ecf1e0-f5dc-47e8-8148-ed33ac20c015",
   "metadata": {},
   "source": [
    "# Attribute Informations\n",
    "- **PassengerID -** A uniqe idd for every passengers in the form of gggg-pp \n",
    "- **HomePlanet -** The Passenger departed from which planet\n",
    "- **CryoSleep -** The passenger in deep sleep untill the saceship reach the destination\n",
    "- **Cabin -** Cabin Number where the passenger staying\n",
    "- **Destination -** Where the pasenger leave the space ship\n",
    "- **Age -** Age of the passenger\n",
    "- **VIP -** Wheather the passenger paid for VIP service\n",
    "- **Room Service, Food Court, Shoping Mall, Spa, VR deck -** The amount paid by the costumer for the special service\n",
    "- **Name -** Name of the Passenger\n",
    "- **Transported -** Wheather the passenger is divorted into a new dimentations"
   ]
  },
  {
   "cell_type": "markdown",
   "id": "3adf17ef-f864-4803-8764-3f78153be4d5",
   "metadata": {},
   "source": [
    "# Libray Import"
   ]
  },
  {
   "cell_type": "code",
   "execution_count": 4,
   "id": "0f2ba56c-9c1d-492a-9eba-ae6f84fcea5d",
   "metadata": {},
   "outputs": [],
   "source": [
    "# import the library\n",
    "import numpy as np\n",
    "import pandas as pd\n",
    "\n",
    "# For ignore un-wanted error messeges\n",
    "import warnings\n",
    "warnings.filterwarnings(\"ignore\")"
   ]
  },
  {
   "cell_type": "markdown",
   "id": "126098f8-a580-4f0c-a2ac-06e6a4fc7a91",
   "metadata": {},
   "source": [
    "# Import Dataset"
   ]
  },
  {
   "cell_type": "code",
   "execution_count": 6,
   "id": "eea5fa47-86f7-4124-8479-ec8da3d0cdef",
   "metadata": {},
   "outputs": [
    {
     "data": {
      "text/html": [
       "<div>\n",
       "<style scoped>\n",
       "    .dataframe tbody tr th:only-of-type {\n",
       "        vertical-align: middle;\n",
       "    }\n",
       "\n",
       "    .dataframe tbody tr th {\n",
       "        vertical-align: top;\n",
       "    }\n",
       "\n",
       "    .dataframe thead th {\n",
       "        text-align: right;\n",
       "    }\n",
       "</style>\n",
       "<table border=\"1\" class=\"dataframe\">\n",
       "  <thead>\n",
       "    <tr style=\"text-align: right;\">\n",
       "      <th></th>\n",
       "      <th>PassengerId</th>\n",
       "      <th>HomePlanet</th>\n",
       "      <th>CryoSleep</th>\n",
       "      <th>Cabin</th>\n",
       "      <th>Destination</th>\n",
       "      <th>Age</th>\n",
       "      <th>VIP</th>\n",
       "      <th>RoomService</th>\n",
       "      <th>FoodCourt</th>\n",
       "      <th>ShoppingMall</th>\n",
       "      <th>Spa</th>\n",
       "      <th>VRDeck</th>\n",
       "      <th>Name</th>\n",
       "      <th>Transported</th>\n",
       "    </tr>\n",
       "  </thead>\n",
       "  <tbody>\n",
       "    <tr>\n",
       "      <th>0</th>\n",
       "      <td>0001_01</td>\n",
       "      <td>Europa</td>\n",
       "      <td>False</td>\n",
       "      <td>B/0/P</td>\n",
       "      <td>TRAPPIST-1e</td>\n",
       "      <td>39.0</td>\n",
       "      <td>False</td>\n",
       "      <td>0.0</td>\n",
       "      <td>0.0</td>\n",
       "      <td>0.0</td>\n",
       "      <td>0.0</td>\n",
       "      <td>0.0</td>\n",
       "      <td>Maham Ofracculy</td>\n",
       "      <td>False</td>\n",
       "    </tr>\n",
       "    <tr>\n",
       "      <th>1</th>\n",
       "      <td>0002_01</td>\n",
       "      <td>Earth</td>\n",
       "      <td>False</td>\n",
       "      <td>F/0/S</td>\n",
       "      <td>TRAPPIST-1e</td>\n",
       "      <td>24.0</td>\n",
       "      <td>False</td>\n",
       "      <td>109.0</td>\n",
       "      <td>9.0</td>\n",
       "      <td>25.0</td>\n",
       "      <td>549.0</td>\n",
       "      <td>44.0</td>\n",
       "      <td>Juanna Vines</td>\n",
       "      <td>True</td>\n",
       "    </tr>\n",
       "    <tr>\n",
       "      <th>2</th>\n",
       "      <td>0003_01</td>\n",
       "      <td>Europa</td>\n",
       "      <td>False</td>\n",
       "      <td>A/0/S</td>\n",
       "      <td>TRAPPIST-1e</td>\n",
       "      <td>58.0</td>\n",
       "      <td>True</td>\n",
       "      <td>43.0</td>\n",
       "      <td>3576.0</td>\n",
       "      <td>0.0</td>\n",
       "      <td>6715.0</td>\n",
       "      <td>49.0</td>\n",
       "      <td>Altark Susent</td>\n",
       "      <td>False</td>\n",
       "    </tr>\n",
       "    <tr>\n",
       "      <th>3</th>\n",
       "      <td>0003_02</td>\n",
       "      <td>Europa</td>\n",
       "      <td>False</td>\n",
       "      <td>A/0/S</td>\n",
       "      <td>TRAPPIST-1e</td>\n",
       "      <td>33.0</td>\n",
       "      <td>False</td>\n",
       "      <td>0.0</td>\n",
       "      <td>1283.0</td>\n",
       "      <td>371.0</td>\n",
       "      <td>3329.0</td>\n",
       "      <td>193.0</td>\n",
       "      <td>Solam Susent</td>\n",
       "      <td>False</td>\n",
       "    </tr>\n",
       "    <tr>\n",
       "      <th>4</th>\n",
       "      <td>0004_01</td>\n",
       "      <td>Earth</td>\n",
       "      <td>False</td>\n",
       "      <td>F/1/S</td>\n",
       "      <td>TRAPPIST-1e</td>\n",
       "      <td>16.0</td>\n",
       "      <td>False</td>\n",
       "      <td>303.0</td>\n",
       "      <td>70.0</td>\n",
       "      <td>151.0</td>\n",
       "      <td>565.0</td>\n",
       "      <td>2.0</td>\n",
       "      <td>Willy Santantines</td>\n",
       "      <td>True</td>\n",
       "    </tr>\n",
       "  </tbody>\n",
       "</table>\n",
       "</div>"
      ],
      "text/plain": [
       "  PassengerId HomePlanet CryoSleep  Cabin  Destination   Age    VIP  \\\n",
       "0     0001_01     Europa     False  B/0/P  TRAPPIST-1e  39.0  False   \n",
       "1     0002_01      Earth     False  F/0/S  TRAPPIST-1e  24.0  False   \n",
       "2     0003_01     Europa     False  A/0/S  TRAPPIST-1e  58.0   True   \n",
       "3     0003_02     Europa     False  A/0/S  TRAPPIST-1e  33.0  False   \n",
       "4     0004_01      Earth     False  F/1/S  TRAPPIST-1e  16.0  False   \n",
       "\n",
       "   RoomService  FoodCourt  ShoppingMall     Spa  VRDeck               Name  \\\n",
       "0          0.0        0.0           0.0     0.0     0.0    Maham Ofracculy   \n",
       "1        109.0        9.0          25.0   549.0    44.0       Juanna Vines   \n",
       "2         43.0     3576.0           0.0  6715.0    49.0      Altark Susent   \n",
       "3          0.0     1283.0         371.0  3329.0   193.0       Solam Susent   \n",
       "4        303.0       70.0         151.0   565.0     2.0  Willy Santantines   \n",
       "\n",
       "   Transported  \n",
       "0        False  \n",
       "1         True  \n",
       "2        False  \n",
       "3        False  \n",
       "4         True  "
      ]
     },
     "execution_count": 6,
     "metadata": {},
     "output_type": "execute_result"
    }
   ],
   "source": [
    "# Import the dataset\n",
    "data=pd.read_csv(r\"C:\\Users\\sunil\\Downloads\\spaceship-titanic\\train.csv\")\n",
    "test=pd.read_csv(r\"C:\\Users\\sunil\\Downloads\\spaceship-titanic\\test.csv\")\n",
    "data.head()"
   ]
  },
  {
   "cell_type": "markdown",
   "id": "32955ee4-b8fa-4f3e-aea6-49d5fa5e5763",
   "metadata": {},
   "source": [
    "# Finding the shape and columns details of the Data"
   ]
  },
  {
   "cell_type": "code",
   "execution_count": 8,
   "id": "de8d544c-5081-4c42-a8ef-b99ebecca5fb",
   "metadata": {},
   "outputs": [
    {
     "data": {
      "text/plain": [
       "(8693, 14)"
      ]
     },
     "execution_count": 8,
     "metadata": {},
     "output_type": "execute_result"
    }
   ],
   "source": [
    "data.shape"
   ]
  },
  {
   "cell_type": "markdown",
   "id": "708e0d73-33a7-457b-a1b9-7b9d626d2504",
   "metadata": {},
   "source": [
    "### The tabel contain 14 columns and 8693 records on it "
   ]
  },
  {
   "cell_type": "code",
   "execution_count": 10,
   "id": "03858277-78ca-431f-9858-7a1e8197d4fa",
   "metadata": {},
   "outputs": [
    {
     "data": {
      "text/plain": [
       "Index(['PassengerId', 'HomePlanet', 'CryoSleep', 'Cabin', 'Destination', 'Age',\n",
       "       'VIP', 'RoomService', 'FoodCourt', 'ShoppingMall', 'Spa', 'VRDeck',\n",
       "       'Name', 'Transported'],\n",
       "      dtype='object')"
      ]
     },
     "execution_count": 10,
     "metadata": {},
     "output_type": "execute_result"
    }
   ],
   "source": [
    "data.columns"
   ]
  },
  {
   "cell_type": "markdown",
   "id": "6134ac8e-a245-459f-b1e0-ce65f018baad",
   "metadata": {},
   "source": [
    "# Finding the information about data"
   ]
  },
  {
   "cell_type": "code",
   "execution_count": 12,
   "id": "fcea5313-294b-4caf-a607-09e372eebd77",
   "metadata": {},
   "outputs": [
    {
     "name": "stdout",
     "output_type": "stream",
     "text": [
      "<class 'pandas.core.frame.DataFrame'>\n",
      "RangeIndex: 8693 entries, 0 to 8692\n",
      "Data columns (total 14 columns):\n",
      " #   Column        Non-Null Count  Dtype  \n",
      "---  ------        --------------  -----  \n",
      " 0   PassengerId   8693 non-null   object \n",
      " 1   HomePlanet    8492 non-null   object \n",
      " 2   CryoSleep     8476 non-null   object \n",
      " 3   Cabin         8494 non-null   object \n",
      " 4   Destination   8511 non-null   object \n",
      " 5   Age           8514 non-null   float64\n",
      " 6   VIP           8490 non-null   object \n",
      " 7   RoomService   8512 non-null   float64\n",
      " 8   FoodCourt     8510 non-null   float64\n",
      " 9   ShoppingMall  8485 non-null   float64\n",
      " 10  Spa           8510 non-null   float64\n",
      " 11  VRDeck        8505 non-null   float64\n",
      " 12  Name          8493 non-null   object \n",
      " 13  Transported   8693 non-null   bool   \n",
      "dtypes: bool(1), float64(6), object(7)\n",
      "memory usage: 891.5+ KB\n"
     ]
    }
   ],
   "source": [
    "data.info()"
   ]
  },
  {
   "cell_type": "markdown",
   "id": "4c68fb6b-0fba-4783-8702-6c185da757b7",
   "metadata": {},
   "source": [
    "# Missing Value Finding"
   ]
  },
  {
   "cell_type": "code",
   "execution_count": 14,
   "id": "89e2016e-d28a-4a2c-ac9e-ca80ae7b75bc",
   "metadata": {},
   "outputs": [
    {
     "data": {
      "text/plain": [
       "PassengerId       0\n",
       "HomePlanet      201\n",
       "CryoSleep       217\n",
       "Cabin           199\n",
       "Destination     182\n",
       "Age             179\n",
       "VIP             203\n",
       "RoomService     181\n",
       "FoodCourt       183\n",
       "ShoppingMall    208\n",
       "Spa             183\n",
       "VRDeck          188\n",
       "Name            200\n",
       "Transported       0\n",
       "dtype: int64"
      ]
     },
     "execution_count": 14,
     "metadata": {},
     "output_type": "execute_result"
    }
   ],
   "source": [
    "data.isnull().sum()"
   ]
  },
  {
   "cell_type": "markdown",
   "id": "167494cd-6f8b-4a11-9997-2c724e4d00d9",
   "metadata": {},
   "source": [
    "- The dataset contains several columns with missing values. The HomePlanet column has 201 missing values, while CryoSleep is missing 217 values. The Cabin column is missing 199 values, and Destination has 182 missing entries. Additionally, the Age column has 179 missing values, and VIP is missing 203 values. Other columns with missing values include RoomService (181), FoodCourt (183), ShoppingMall (208), Spa (183), and VRDeck (188). Lastly, the Name column is missing 200 values. The PassengerId and Transported columns have no missing values."
   ]
  },
  {
   "cell_type": "markdown",
   "id": "ef36789d-4e3e-40f9-9294-878d092d0931",
   "metadata": {},
   "source": [
    "- **Since the PassengerId column does not have any missing values, it can be retained as a unique identifier for each passenger. However, the Name column has 200 missing values. Since we do not have access to the real data to fill in the missing names, we will drop the Name column to ensure data consistency and avoid complications in analysis.**"
   ]
  },
  {
   "cell_type": "code",
   "execution_count": 17,
   "id": "68204b6e-38ce-46b5-a9cc-4cff85222278",
   "metadata": {},
   "outputs": [
    {
     "data": {
      "text/plain": [
       "PassengerId       0\n",
       "HomePlanet      201\n",
       "CryoSleep       217\n",
       "Cabin           199\n",
       "Destination     182\n",
       "Age             179\n",
       "VIP             203\n",
       "RoomService     181\n",
       "FoodCourt       183\n",
       "ShoppingMall    208\n",
       "Spa             183\n",
       "VRDeck          188\n",
       "Name            200\n",
       "Transported       0\n",
       "dtype: int64"
      ]
     },
     "execution_count": 17,
     "metadata": {},
     "output_type": "execute_result"
    }
   ],
   "source": [
    "data.isnull().sum()"
   ]
  },
  {
   "cell_type": "code",
   "execution_count": 18,
   "id": "38a3cca3-b81a-4f37-8255-d01d9087b979",
   "metadata": {},
   "outputs": [
    {
     "data": {
      "text/plain": [
       "(8693, 14)"
      ]
     },
     "execution_count": 18,
     "metadata": {},
     "output_type": "execute_result"
    }
   ],
   "source": [
    "data.shape"
   ]
  },
  {
   "cell_type": "markdown",
   "id": "1bb5e26b-3777-498a-bee1-33dde1ed4f00",
   "metadata": {},
   "source": [
    "- Here we see the Name column 200 null values are sucessfully droped. And the total  record 8693 before now it reduce to 8493"
   ]
  },
  {
   "cell_type": "markdown",
   "id": "9f80adc8-2be3-4be8-bd50-a17cf6a8a2c9",
   "metadata": {},
   "source": [
    "To ensure the dataset remains clean and usable for analysis, we fill the missing values using appropriate strategies based on the type of data in each column:\n",
    "\n",
    "Categorical Columns (HomePlanet, Cabin, Destination, VIP): Missing values are replaced with the mode (most frequently occurring value).\n",
    "Numerical Columns (Age, RoomService, FoodCourt, ShoppingMall, Spa, VRDeck): Missing values are replaced with the median to prevent distortion caused by outliers."
   ]
  },
  {
   "cell_type": "code",
   "execution_count": 21,
   "id": "58b7229f-9f8d-49df-ae51-f0d04acaf6b9",
   "metadata": {},
   "outputs": [],
   "source": [
    "data[\"HomePlanet\"]=data[\"HomePlanet\"].fillna(data[\"HomePlanet\"].mode()[0])\n",
    "data[\"Cabin\"]=data[\"Cabin\"].fillna(data[\"Cabin\"].mode()[0])\n",
    "data[\"Destination\"]=data[\"Destination\"].fillna(data[\"Destination\"].mode()[0])\n",
    "data[\"Age\"]=data[\"Age\"].fillna(data[\"Age\"].median())\n",
    "data[\"VIP\"]=data[\"VIP\"].fillna(data[\"VIP\"].mode()[0])\n",
    "data[\"RoomService\"]=data[\"RoomService\"].fillna(0)\n",
    "data[\"FoodCourt\"]=data[\"FoodCourt\"].fillna(0)\n",
    "data[\"ShoppingMall\"]=data[\"ShoppingMall\"].fillna(0)\n",
    "data[\"Spa\"]=data[\"Spa\"].fillna(0)\n",
    "data[\"VRDeck\"]=data[\"VRDeck\"].fillna(0)\n",
    "data[\"CryoSleep\"]=data[\"CryoSleep\"].fillna(data[\"CryoSleep\"].mode()[0])"
   ]
  },
  {
   "cell_type": "code",
   "execution_count": 22,
   "id": "df10cc4c-6f2d-4033-b688-0d15f0c88f56",
   "metadata": {},
   "outputs": [
    {
     "data": {
      "text/plain": [
       "PassengerId       0\n",
       "HomePlanet        0\n",
       "CryoSleep         0\n",
       "Cabin             0\n",
       "Destination       0\n",
       "Age               0\n",
       "VIP               0\n",
       "RoomService       0\n",
       "FoodCourt         0\n",
       "ShoppingMall      0\n",
       "Spa               0\n",
       "VRDeck            0\n",
       "Name            200\n",
       "Transported       0\n",
       "dtype: int64"
      ]
     },
     "execution_count": 22,
     "metadata": {},
     "output_type": "execute_result"
    }
   ],
   "source": [
    "data.isnull().sum()"
   ]
  },
  {
   "cell_type": "markdown",
   "id": "91bd46b7-e883-42ae-bfae-205f2403dd1f",
   "metadata": {},
   "source": [
    "- From the above missing value tretment we see there is no more any missing values in the data set. as we dont get complete data access the data ammount slightly reduces"
   ]
  },
  {
   "cell_type": "code",
   "execution_count": 24,
   "id": "ffe982df-be85-47fa-9e60-1f33c343fbf7",
   "metadata": {},
   "outputs": [
    {
     "data": {
      "text/plain": [
       "(8693, 14)"
      ]
     },
     "execution_count": 24,
     "metadata": {},
     "output_type": "execute_result"
    }
   ],
   "source": [
    "data.shape"
   ]
  },
  {
   "cell_type": "markdown",
   "id": "60d355fa-38bc-4c3f-954e-d27f1ee75124",
   "metadata": {},
   "source": [
    "# Duplicated finding"
   ]
  },
  {
   "cell_type": "code",
   "execution_count": 26,
   "id": "47dfc247-8bc1-4f24-ad03-07f4d0d78087",
   "metadata": {},
   "outputs": [
    {
     "data": {
      "text/plain": [
       "0"
      ]
     },
     "execution_count": 26,
     "metadata": {},
     "output_type": "execute_result"
    }
   ],
   "source": [
    "data.duplicated().sum()"
   ]
  },
  {
   "cell_type": "markdown",
   "id": "9dfb57f5-c844-48eb-829d-28b7ac387421",
   "metadata": {},
   "source": [
    "- Here we see that there is no more duplicates values in the data set. if in the case there is any duplicate value some times we consider asit is or in some time we drop the duplicate values by just using   **data = data.drop_duplicates()**\n"
   ]
  },
  {
   "cell_type": "markdown",
   "id": "ff24587f-1329-4061-9df7-a5feb8408c54",
   "metadata": {},
   "source": [
    "# Data type correction for each column\n",
    "### As in the data set there lots off missing values so that we cannot correct the data type of the columns before. after the missing value handeling we can perform this operation\n",
    "- PassengerId   --> object  \n",
    "- HomePlanet    --> object  \n",
    "- CryoSleep     --> object  \n",
    "- Cabin         --> object  \n",
    "- Destination   --> object  \n",
    "- Age           --> int  \n",
    "- VIP           --> object  \n",
    "- RoomService   --> float  \n",
    "- FoodCourt     --> float  \n",
    "- ShoppingMall  --> float  \n",
    "- Spa           --> float  \n",
    "- VRDeck        --> float  \n",
    "- Name          --> object  \n",
    "- Transported   --> object  \n",
    "\n",
    "- "
   ]
  },
  {
   "cell_type": "code",
   "execution_count": 29,
   "id": "b6f9a09e-2a6f-4cf9-a4ce-367eaff81a21",
   "metadata": {},
   "outputs": [],
   "source": [
    "data[\"PassengerId\"]=data[\"PassengerId\"].astype(object)\n",
    "data[\"HomePlanet\"]=data[\"HomePlanet\"].astype(object)\n",
    "data['CryoSleep']=data[\"CryoSleep\"].astype(object)\n",
    "data[\"Cabin\"]=data[\"Cabin\"].astype(object)\n",
    "data[\"Destination\"]=data[\"Destination\"].astype(object)\n",
    "data[\"Age\"]=data[\"Age\"].astype(int)\n",
    "data[\"VIP\"]=data[\"VIP\"].astype(object)\n",
    "data[\"RoomService\"]=data[\"RoomService\"].astype(float)\n",
    "data[\"FoodCourt\"]=data[\"FoodCourt\"].astype(float)\n",
    "data[\"ShoppingMall\"]=data[\"ShoppingMall\"].astype(float)\n",
    "data[\"Spa\"]=data[\"Spa\"].astype(float)\n",
    "data[\"VRDeck\"]=data[\"VRDeck\"].astype(float)\n",
    "data[\"Name\"]=data[\"Name\"].astype(object)\n",
    "data[\"Transported\"]=data[\"Transported\"].astype(object)\n"
   ]
  },
  {
   "cell_type": "markdown",
   "id": "667f2156-36dc-4f54-a170-b7fc8301cd2b",
   "metadata": {},
   "source": [
    "# Some advance anlysis on data"
   ]
  },
  {
   "cell_type": "markdown",
   "id": "6cc6e587-47ad-412a-b9bd-cdb05ae29db6",
   "metadata": {},
   "source": [
    "## Q1. Number of the passenger are in deep sleep and number of passenger are not in deep sleep"
   ]
  },
  {
   "cell_type": "code",
   "execution_count": 32,
   "id": "5abfbfb1-b21c-44ba-97cf-5fcf6ffb5e52",
   "metadata": {},
   "outputs": [
    {
     "data": {
      "text/plain": [
       "CryoSleep\n",
       "False    5656\n",
       "True     3037\n",
       "Name: count, dtype: int64"
      ]
     },
     "execution_count": 32,
     "metadata": {},
     "output_type": "execute_result"
    }
   ],
   "source": [
    "data[\"CryoSleep\"].value_counts()"
   ]
  },
  {
   "cell_type": "markdown",
   "id": "10e0eba8-318b-479f-96cc-1bd47e3c2719",
   "metadata": {},
   "source": [
    "## Q2. HomePlanet for how many passengers are in"
   ]
  },
  {
   "cell_type": "code",
   "execution_count": 34,
   "id": "b31a3fc1-79ff-45d4-965d-7a84accb40ca",
   "metadata": {},
   "outputs": [
    {
     "data": {
      "text/plain": [
       "HomePlanet\n",
       "Earth     4803\n",
       "Europa    2131\n",
       "Mars      1759\n",
       "Name: count, dtype: int64"
      ]
     },
     "execution_count": 34,
     "metadata": {},
     "output_type": "execute_result"
    }
   ],
   "source": [
    "data[\"HomePlanet\"].value_counts()"
   ]
  },
  {
   "cell_type": "markdown",
   "id": "88cfbddb-4697-43ae-bcd7-e8e84caf4bbc",
   "metadata": {},
   "source": [
    "# Q3. Destination wise anlysis"
   ]
  },
  {
   "cell_type": "code",
   "execution_count": 36,
   "id": "0502ad87-8233-477b-a7d7-bc79110702fe",
   "metadata": {},
   "outputs": [
    {
     "data": {
      "text/plain": [
       "Destination\n",
       "TRAPPIST-1e      6097\n",
       "55 Cancri e      1800\n",
       "PSO J318.5-22     796\n",
       "Name: count, dtype: int64"
      ]
     },
     "execution_count": 36,
     "metadata": {},
     "output_type": "execute_result"
    }
   ],
   "source": [
    "data[\"Destination\"].value_counts()"
   ]
  },
  {
   "cell_type": "markdown",
   "id": "a7dd4dee-1045-4977-9431-25c4975c5949",
   "metadata": {},
   "source": [
    "## Q4. how many passenger are VIP on Non-VIP"
   ]
  },
  {
   "cell_type": "code",
   "execution_count": 38,
   "id": "e19bb244-33d0-4354-89b8-7e9fc9d1ef06",
   "metadata": {},
   "outputs": [
    {
     "data": {
      "text/plain": [
       "VIP\n",
       "False    8494\n",
       "True      199\n",
       "Name: count, dtype: int64"
      ]
     },
     "execution_count": 38,
     "metadata": {},
     "output_type": "execute_result"
    }
   ],
   "source": [
    "data[\"VIP\"].value_counts()"
   ]
  },
  {
   "cell_type": "markdown",
   "id": "d53045dc-2289-4221-866f-112cf370c1b9",
   "metadata": {},
   "source": [
    "## Q5. How many pessengers path are transfpred to new path"
   ]
  },
  {
   "cell_type": "code",
   "execution_count": 40,
   "id": "3cb883d1-3d97-4dbe-bd96-58e28ad5b00b",
   "metadata": {},
   "outputs": [
    {
     "data": {
      "text/plain": [
       "Transported\n",
       "True     4378\n",
       "False    4315\n",
       "Name: count, dtype: int64"
      ]
     },
     "execution_count": 40,
     "metadata": {},
     "output_type": "execute_result"
    }
   ],
   "source": [
    "data['Transported'].value_counts()"
   ]
  },
  {
   "cell_type": "markdown",
   "id": "33ec8574-046f-41c7-867e-69bdcf82d4a2",
   "metadata": {},
   "source": [
    "## Q6. VIP VS CrySleep"
   ]
  },
  {
   "cell_type": "code",
   "execution_count": 42,
   "id": "b3600819-35f6-4e8f-a68c-a5c3dd11e812",
   "metadata": {},
   "outputs": [
    {
     "data": {
      "text/plain": [
       "VIP\n",
       "False    8494\n",
       "True      199\n",
       "Name: CryoSleep, dtype: int64"
      ]
     },
     "execution_count": 42,
     "metadata": {},
     "output_type": "execute_result"
    }
   ],
   "source": [
    "\n",
    "data.groupby(\"VIP\")[\"CryoSleep\"].count()"
   ]
  },
  {
   "cell_type": "markdown",
   "id": "877e67d7-7fed-4a01-bb94-ab27a7429830",
   "metadata": {},
   "source": [
    "### The CryoSleep and VIP columns show the following distribution:\n",
    "\n",
    "- Among passengers who did not opt for CryoSleep (False), 5,343 were not VIPs, while 2,954 were VIPs.\n",
    "- Among passengers who opted for CryoSleep (True), 175 were not VIPs, while only 21 were VIPs."
   ]
  },
  {
   "cell_type": "markdown",
   "id": "60b8cf24-e05a-43a8-aeb8-4d6586f9457a",
   "metadata": {},
   "source": [
    "## Q7. VIP VS Trasported "
   ]
  },
  {
   "cell_type": "code",
   "execution_count": 45,
   "id": "7d8d620b-12c9-44ad-b254-f495b82682c5",
   "metadata": {},
   "outputs": [
    {
     "data": {
      "text/plain": [
       "VIP\n",
       "False    8494\n",
       "True      199\n",
       "Name: PassengerId, dtype: int64"
      ]
     },
     "execution_count": 45,
     "metadata": {},
     "output_type": "execute_result"
    }
   ],
   "source": [
    "\n",
    "data.groupby(\"VIP\")[\"PassengerId\"].count()"
   ]
  },
  {
   "cell_type": "markdown",
   "id": "01cc6295-041b-4894-a81a-561848f1d8c5",
   "metadata": {},
   "source": [
    "### The Transported column indicates whether a passenger was diverted to a new track (True) or not (False), with the following distribution based on VIP status:\n",
    "\n",
    "- Among non-VIP passengers:\n",
    "\n",
    "    - 4,093 were not transported to a new track (False).\n",
    "    - 4,204 were transported to a new track (True).\n",
    "- Among VIP passengers:\n",
    "\n",
    "    - 123 were not transported (False).\n",
    "    - 73 were transported (True)."
   ]
  },
  {
   "cell_type": "markdown",
   "id": "76b8454f-6af1-45fb-babe-ed47bc510299",
   "metadata": {},
   "source": [
    "## Q8. HomePlanet vs PessengerId"
   ]
  },
  {
   "cell_type": "code",
   "execution_count": 48,
   "id": "f6cd389a-ef81-48f1-ba78-1b4a830b6608",
   "metadata": {},
   "outputs": [
    {
     "data": {
      "text/plain": [
       "HomePlanet\n",
       "Earth     4803\n",
       "Europa    2131\n",
       "Mars      1759\n",
       "Name: PassengerId, dtype: int64"
      ]
     },
     "execution_count": 48,
     "metadata": {},
     "output_type": "execute_result"
    }
   ],
   "source": [
    "data.groupby(\"HomePlanet\")[\"PassengerId\"].count()"
   ]
  },
  {
   "cell_type": "code",
   "execution_count": 49,
   "id": "d1999c1d-5a86-465d-8a7f-e7c1d5ac1dd3",
   "metadata": {},
   "outputs": [
    {
     "data": {
      "text/plain": [
       "Destination\n",
       "55 Cancri e      1800\n",
       "PSO J318.5-22     796\n",
       "TRAPPIST-1e      6097\n",
       "Name: PassengerId, dtype: int64"
      ]
     },
     "execution_count": 49,
     "metadata": {},
     "output_type": "execute_result"
    }
   ],
   "source": [
    "\n",
    "data.groupby(\"Destination\")[\"PassengerId\"].count()"
   ]
  },
  {
   "cell_type": "code",
   "execution_count": 50,
   "id": "eb8e556d-77a6-495a-8927-de97f31b793b",
   "metadata": {},
   "outputs": [
    {
     "data": {
      "text/plain": [
       "(8693, 14)"
      ]
     },
     "execution_count": 50,
     "metadata": {},
     "output_type": "execute_result"
    }
   ],
   "source": [
    "data.shape"
   ]
  },
  {
   "cell_type": "code",
   "execution_count": 51,
   "id": "35fa8f32-f864-4c35-8bb7-fef3ab20d696",
   "metadata": {
    "scrolled": true
   },
   "outputs": [
    {
     "data": {
      "text/plain": [
       "0"
      ]
     },
     "execution_count": 51,
     "metadata": {},
     "output_type": "execute_result"
    }
   ],
   "source": [
    "8693-8693"
   ]
  },
  {
   "cell_type": "markdown",
   "id": "aa63ca7e-b056-4341-b97d-da97eb36c0a1",
   "metadata": {},
   "source": [
    "### Lets take all the numerical and categorical columns to find the description on that columns"
   ]
  },
  {
   "cell_type": "code",
   "execution_count": 53,
   "id": "e2bb69de-68b0-4f70-abe6-3900b2d13cd7",
   "metadata": {},
   "outputs": [],
   "source": [
    "numeric=data[[\"RoomService\",\"FoodCourt\",\"ShoppingMall\",\"Spa\",\"VRDeck\",\"Age\"]]\n",
    "category=data[[\"PassengerId\",\"HomePlanet\",\"CryoSleep\",\"Cabin\",\"Destination\",\"VIP\",\"Name\",\"Transported\"]]"
   ]
  },
  {
   "cell_type": "code",
   "execution_count": 54,
   "id": "76f95dcd-ff50-415d-ba85-c58bec6c4596",
   "metadata": {},
   "outputs": [
    {
     "data": {
      "text/html": [
       "<div>\n",
       "<style scoped>\n",
       "    .dataframe tbody tr th:only-of-type {\n",
       "        vertical-align: middle;\n",
       "    }\n",
       "\n",
       "    .dataframe tbody tr th {\n",
       "        vertical-align: top;\n",
       "    }\n",
       "\n",
       "    .dataframe thead th {\n",
       "        text-align: right;\n",
       "    }\n",
       "</style>\n",
       "<table border=\"1\" class=\"dataframe\">\n",
       "  <thead>\n",
       "    <tr style=\"text-align: right;\">\n",
       "      <th></th>\n",
       "      <th>count</th>\n",
       "      <th>mean</th>\n",
       "      <th>std</th>\n",
       "      <th>min</th>\n",
       "      <th>25%</th>\n",
       "      <th>50%</th>\n",
       "      <th>75%</th>\n",
       "      <th>max</th>\n",
       "    </tr>\n",
       "  </thead>\n",
       "  <tbody>\n",
       "    <tr>\n",
       "      <th>RoomService</th>\n",
       "      <td>8693.0</td>\n",
       "      <td>220.009318</td>\n",
       "      <td>660.519050</td>\n",
       "      <td>0.0</td>\n",
       "      <td>0.0</td>\n",
       "      <td>0.0</td>\n",
       "      <td>41.0</td>\n",
       "      <td>14327.0</td>\n",
       "    </tr>\n",
       "    <tr>\n",
       "      <th>FoodCourt</th>\n",
       "      <td>8693.0</td>\n",
       "      <td>448.434027</td>\n",
       "      <td>1595.790627</td>\n",
       "      <td>0.0</td>\n",
       "      <td>0.0</td>\n",
       "      <td>0.0</td>\n",
       "      <td>61.0</td>\n",
       "      <td>29813.0</td>\n",
       "    </tr>\n",
       "    <tr>\n",
       "      <th>ShoppingMall</th>\n",
       "      <td>8693.0</td>\n",
       "      <td>169.572300</td>\n",
       "      <td>598.007164</td>\n",
       "      <td>0.0</td>\n",
       "      <td>0.0</td>\n",
       "      <td>0.0</td>\n",
       "      <td>22.0</td>\n",
       "      <td>23492.0</td>\n",
       "    </tr>\n",
       "    <tr>\n",
       "      <th>Spa</th>\n",
       "      <td>8693.0</td>\n",
       "      <td>304.588865</td>\n",
       "      <td>1125.562559</td>\n",
       "      <td>0.0</td>\n",
       "      <td>0.0</td>\n",
       "      <td>0.0</td>\n",
       "      <td>53.0</td>\n",
       "      <td>22408.0</td>\n",
       "    </tr>\n",
       "    <tr>\n",
       "      <th>VRDeck</th>\n",
       "      <td>8693.0</td>\n",
       "      <td>298.261820</td>\n",
       "      <td>1134.126417</td>\n",
       "      <td>0.0</td>\n",
       "      <td>0.0</td>\n",
       "      <td>0.0</td>\n",
       "      <td>40.0</td>\n",
       "      <td>24133.0</td>\n",
       "    </tr>\n",
       "    <tr>\n",
       "      <th>Age</th>\n",
       "      <td>8693.0</td>\n",
       "      <td>28.790291</td>\n",
       "      <td>14.341404</td>\n",
       "      <td>0.0</td>\n",
       "      <td>20.0</td>\n",
       "      <td>27.0</td>\n",
       "      <td>37.0</td>\n",
       "      <td>79.0</td>\n",
       "    </tr>\n",
       "  </tbody>\n",
       "</table>\n",
       "</div>"
      ],
      "text/plain": [
       "               count        mean          std  min   25%   50%   75%      max\n",
       "RoomService   8693.0  220.009318   660.519050  0.0   0.0   0.0  41.0  14327.0\n",
       "FoodCourt     8693.0  448.434027  1595.790627  0.0   0.0   0.0  61.0  29813.0\n",
       "ShoppingMall  8693.0  169.572300   598.007164  0.0   0.0   0.0  22.0  23492.0\n",
       "Spa           8693.0  304.588865  1125.562559  0.0   0.0   0.0  53.0  22408.0\n",
       "VRDeck        8693.0  298.261820  1134.126417  0.0   0.0   0.0  40.0  24133.0\n",
       "Age           8693.0   28.790291    14.341404  0.0  20.0  27.0  37.0     79.0"
      ]
     },
     "execution_count": 54,
     "metadata": {},
     "output_type": "execute_result"
    }
   ],
   "source": [
    "numeric.describe().T"
   ]
  },
  {
   "cell_type": "code",
   "execution_count": 55,
   "id": "1444bfd3-b96d-46c8-893a-68fbd97a2de3",
   "metadata": {},
   "outputs": [
    {
     "data": {
      "text/html": [
       "<div>\n",
       "<style scoped>\n",
       "    .dataframe tbody tr th:only-of-type {\n",
       "        vertical-align: middle;\n",
       "    }\n",
       "\n",
       "    .dataframe tbody tr th {\n",
       "        vertical-align: top;\n",
       "    }\n",
       "\n",
       "    .dataframe thead th {\n",
       "        text-align: right;\n",
       "    }\n",
       "</style>\n",
       "<table border=\"1\" class=\"dataframe\">\n",
       "  <thead>\n",
       "    <tr style=\"text-align: right;\">\n",
       "      <th></th>\n",
       "      <th>count</th>\n",
       "      <th>unique</th>\n",
       "      <th>top</th>\n",
       "      <th>freq</th>\n",
       "    </tr>\n",
       "  </thead>\n",
       "  <tbody>\n",
       "    <tr>\n",
       "      <th>PassengerId</th>\n",
       "      <td>8693</td>\n",
       "      <td>8693</td>\n",
       "      <td>0001_01</td>\n",
       "      <td>1</td>\n",
       "    </tr>\n",
       "    <tr>\n",
       "      <th>HomePlanet</th>\n",
       "      <td>8693</td>\n",
       "      <td>3</td>\n",
       "      <td>Earth</td>\n",
       "      <td>4803</td>\n",
       "    </tr>\n",
       "    <tr>\n",
       "      <th>CryoSleep</th>\n",
       "      <td>8693</td>\n",
       "      <td>2</td>\n",
       "      <td>False</td>\n",
       "      <td>5656</td>\n",
       "    </tr>\n",
       "    <tr>\n",
       "      <th>Cabin</th>\n",
       "      <td>8693</td>\n",
       "      <td>6560</td>\n",
       "      <td>G/734/S</td>\n",
       "      <td>207</td>\n",
       "    </tr>\n",
       "    <tr>\n",
       "      <th>Destination</th>\n",
       "      <td>8693</td>\n",
       "      <td>3</td>\n",
       "      <td>TRAPPIST-1e</td>\n",
       "      <td>6097</td>\n",
       "    </tr>\n",
       "    <tr>\n",
       "      <th>VIP</th>\n",
       "      <td>8693</td>\n",
       "      <td>2</td>\n",
       "      <td>False</td>\n",
       "      <td>8494</td>\n",
       "    </tr>\n",
       "    <tr>\n",
       "      <th>Name</th>\n",
       "      <td>8493</td>\n",
       "      <td>8473</td>\n",
       "      <td>Gollux Reedall</td>\n",
       "      <td>2</td>\n",
       "    </tr>\n",
       "    <tr>\n",
       "      <th>Transported</th>\n",
       "      <td>8693</td>\n",
       "      <td>2</td>\n",
       "      <td>True</td>\n",
       "      <td>4378</td>\n",
       "    </tr>\n",
       "  </tbody>\n",
       "</table>\n",
       "</div>"
      ],
      "text/plain": [
       "            count unique             top  freq\n",
       "PassengerId  8693   8693         0001_01     1\n",
       "HomePlanet   8693      3           Earth  4803\n",
       "CryoSleep    8693      2           False  5656\n",
       "Cabin        8693   6560         G/734/S   207\n",
       "Destination  8693      3     TRAPPIST-1e  6097\n",
       "VIP          8693      2           False  8494\n",
       "Name         8493   8473  Gollux Reedall     2\n",
       "Transported  8693      2            True  4378"
      ]
     },
     "execution_count": 55,
     "metadata": {},
     "output_type": "execute_result"
    }
   ],
   "source": [
    "category.describe().T"
   ]
  },
  {
   "cell_type": "code",
   "execution_count": 56,
   "id": "c7121b7f-c8cc-42a4-99f0-9f80af614010",
   "metadata": {},
   "outputs": [
    {
     "data": {
      "text/plain": [
       "Index(['PassengerId', 'HomePlanet', 'CryoSleep', 'Cabin', 'Destination', 'Age',\n",
       "       'VIP', 'RoomService', 'FoodCourt', 'ShoppingMall', 'Spa', 'VRDeck',\n",
       "       'Name', 'Transported'],\n",
       "      dtype='object')"
      ]
     },
     "execution_count": 56,
     "metadata": {},
     "output_type": "execute_result"
    }
   ],
   "source": [
    "data.columns"
   ]
  },
  {
   "cell_type": "markdown",
   "id": "5c9d2cd7-e2cf-428d-bfb7-d31b8a36e3b2",
   "metadata": {},
   "source": [
    "# Visualizations"
   ]
  },
  {
   "cell_type": "code",
   "execution_count": 58,
   "id": "2144a539-9cc3-4739-9945-48490db0e998",
   "metadata": {},
   "outputs": [],
   "source": [
    "import matplotlib.pyplot as plt\n",
    "import seaborn as sns"
   ]
  },
  {
   "cell_type": "code",
   "execution_count": 59,
   "id": "d9efda8d-112a-456b-95ff-56a10e609d66",
   "metadata": {},
   "outputs": [
    {
     "data": {
      "text/plain": [
       "<Figure size 1200x700 with 0 Axes>"
      ]
     },
     "execution_count": 59,
     "metadata": {},
     "output_type": "execute_result"
    },
    {
     "data": {
      "text/plain": [
       "<Figure size 1200x700 with 0 Axes>"
      ]
     },
     "metadata": {},
     "output_type": "display_data"
    }
   ],
   "source": [
    "plt.figure(figsize=(12,7))"
   ]
  },
  {
   "cell_type": "code",
   "execution_count": 60,
   "id": "1301700c-4e3a-4167-a229-929cba2da4ab",
   "metadata": {},
   "outputs": [
    {
     "data": {
      "text/plain": [
       "Text(0.5, 1.0, 'Transported distribution')"
      ]
     },
     "execution_count": 60,
     "metadata": {},
     "output_type": "execute_result"
    },
    {
     "data": {
      "image/png": "[encoded data removed]",
      "text/plain": [
       "<Figure size 640x480 with 1 Axes>"
      ]
     },
     "metadata": {},
     "output_type": "display_data"
    }
   ],
   "source": [
    "sns.countplot(x=data[\"Transported\"],palette=\"coolwarm\")\n",
    "plt.title(\"Transported distribution\")"
   ]
  },
  {
   "cell_type": "code",
   "execution_count": 61,
   "id": "098db3d7-fe76-4d38-870b-2a60c2ceb7b7",
   "metadata": {},
   "outputs": [
    {
     "data": {
      "text/plain": [
       "Text(0.5, 1.0, 'Age Distribution')"
      ]
     },
     "execution_count": 61,
     "metadata": {},
     "output_type": "execute_result"
    },
    {
     "data": {
      "image/png": "[encoded data removed]",
      "text/plain": [
       "<Figure size 640x480 with 1 Axes>"
      ]
     },
     "metadata": {},
     "output_type": "display_data"
    }
   ],
   "source": [
    "sns.histplot(data[\"Age\"], bins=30, kde=True, color=\"blue\")\n",
    "plt.title(\"Age Distribution\")"
   ]
  },
  {
   "cell_type": "code",
   "execution_count": 62,
   "id": "a2e46009-e130-4428-9426-d213a656669a",
   "metadata": {},
   "outputs": [
    {
     "data": {
      "text/plain": [
       "Text(0.5, 1.0, 'Spending Behavior on Amenities')"
      ]
     },
     "execution_count": 62,
     "metadata": {},
     "output_type": "execute_result"
    },
    {
     "data": {
      "image/png": "[encoded data removed]",
      "text/plain": [
       "<Figure size 640x480 with 1 Axes>"
      ]
     },
     "metadata": {},
     "output_type": "display_data"
    }
   ],
   "source": [
    "sns.boxplot(data=data[[\"RoomService\", \"FoodCourt\", \"ShoppingMall\", \"Spa\", \"VRDeck\"]])\n",
    "plt.xticks(rotation=45)\n",
    "plt.title(\"Spending Behavior on Amenities\")"
   ]
  },
  {
   "cell_type": "code",
   "execution_count": 63,
   "id": "97cd5d47-8216-48fb-a4e2-2669c49e9b38",
   "metadata": {},
   "outputs": [
    {
     "data": {
      "text/plain": [
       "Text(0.5, 1.0, 'HomePlanet Distribution')"
      ]
     },
     "execution_count": 63,
     "metadata": {},
     "output_type": "execute_result"
    },
    {
     "data": {
      "image/png": "[encoded data removed]",
      "text/plain": [
       "<Figure size 640x480 with 1 Axes>"
      ]
     },
     "metadata": {},
     "output_type": "display_data"
    }
   ],
   "source": [
    "sns.countplot(x=data[\"HomePlanet\"], palette=\"viridis\")\n",
    "plt.title(\"HomePlanet Distribution\")"
   ]
  },
  {
   "cell_type": "code",
   "execution_count": 64,
   "id": "ef3f1ca5-e94e-4232-b984-084817259acf",
   "metadata": {},
   "outputs": [
    {
     "data": {
      "image/png": "[encoded data removed]",
      "text/plain": [
       "<Figure size 640x480 with 2 Axes>"
      ]
     },
     "metadata": {},
     "output_type": "display_data"
    }
   ],
   "source": [
    "corr_matrix=numeric.corr()\n",
    "\n",
    "\n",
    "sns.heatmap(corr_matrix, annot=True, cmap=\"coolwarm\", fmt=\".2f\")\n",
    "plt.title(\"Feature Correlation Heatmap\")\n",
    "plt.tight_layout()\n",
    "plt.show()"
   ]
  },
  {
   "cell_type": "markdown",
   "id": "bd97c3ae-7c55-4563-ae7b-4c991bbc78cb",
   "metadata": {},
   "source": [
    "# ML model building"
   ]
  },
  {
   "cell_type": "code",
   "execution_count": 66,
   "id": "bb03c9bc-97b3-4f54-a84e-2e1cfbcdc4af",
   "metadata": {},
   "outputs": [
    {
     "data": {
      "text/html": [
       "<div>\n",
       "<style scoped>\n",
       "    .dataframe tbody tr th:only-of-type {\n",
       "        vertical-align: middle;\n",
       "    }\n",
       "\n",
       "    .dataframe tbody tr th {\n",
       "        vertical-align: top;\n",
       "    }\n",
       "\n",
       "    .dataframe thead th {\n",
       "        text-align: right;\n",
       "    }\n",
       "</style>\n",
       "<table border=\"1\" class=\"dataframe\">\n",
       "  <thead>\n",
       "    <tr style=\"text-align: right;\">\n",
       "      <th></th>\n",
       "      <th>PassengerId</th>\n",
       "      <th>HomePlanet</th>\n",
       "      <th>CryoSleep</th>\n",
       "      <th>Cabin</th>\n",
       "      <th>Destination</th>\n",
       "      <th>Age</th>\n",
       "      <th>VIP</th>\n",
       "      <th>RoomService</th>\n",
       "      <th>FoodCourt</th>\n",
       "      <th>ShoppingMall</th>\n",
       "      <th>Spa</th>\n",
       "      <th>VRDeck</th>\n",
       "      <th>Name</th>\n",
       "      <th>Transported</th>\n",
       "    </tr>\n",
       "  </thead>\n",
       "  <tbody>\n",
       "    <tr>\n",
       "      <th>0</th>\n",
       "      <td>0001_01</td>\n",
       "      <td>Europa</td>\n",
       "      <td>False</td>\n",
       "      <td>B/0/P</td>\n",
       "      <td>TRAPPIST-1e</td>\n",
       "      <td>39</td>\n",
       "      <td>False</td>\n",
       "      <td>0.0</td>\n",
       "      <td>0.0</td>\n",
       "      <td>0.0</td>\n",
       "      <td>0.0</td>\n",
       "      <td>0.0</td>\n",
       "      <td>Maham Ofracculy</td>\n",
       "      <td>False</td>\n",
       "    </tr>\n",
       "    <tr>\n",
       "      <th>1</th>\n",
       "      <td>0002_01</td>\n",
       "      <td>Earth</td>\n",
       "      <td>False</td>\n",
       "      <td>F/0/S</td>\n",
       "      <td>TRAPPIST-1e</td>\n",
       "      <td>24</td>\n",
       "      <td>False</td>\n",
       "      <td>109.0</td>\n",
       "      <td>9.0</td>\n",
       "      <td>25.0</td>\n",
       "      <td>549.0</td>\n",
       "      <td>44.0</td>\n",
       "      <td>Juanna Vines</td>\n",
       "      <td>True</td>\n",
       "    </tr>\n",
       "    <tr>\n",
       "      <th>2</th>\n",
       "      <td>0003_01</td>\n",
       "      <td>Europa</td>\n",
       "      <td>False</td>\n",
       "      <td>A/0/S</td>\n",
       "      <td>TRAPPIST-1e</td>\n",
       "      <td>58</td>\n",
       "      <td>True</td>\n",
       "      <td>43.0</td>\n",
       "      <td>3576.0</td>\n",
       "      <td>0.0</td>\n",
       "      <td>6715.0</td>\n",
       "      <td>49.0</td>\n",
       "      <td>Altark Susent</td>\n",
       "      <td>False</td>\n",
       "    </tr>\n",
       "    <tr>\n",
       "      <th>3</th>\n",
       "      <td>0003_02</td>\n",
       "      <td>Europa</td>\n",
       "      <td>False</td>\n",
       "      <td>A/0/S</td>\n",
       "      <td>TRAPPIST-1e</td>\n",
       "      <td>33</td>\n",
       "      <td>False</td>\n",
       "      <td>0.0</td>\n",
       "      <td>1283.0</td>\n",
       "      <td>371.0</td>\n",
       "      <td>3329.0</td>\n",
       "      <td>193.0</td>\n",
       "      <td>Solam Susent</td>\n",
       "      <td>False</td>\n",
       "    </tr>\n",
       "    <tr>\n",
       "      <th>4</th>\n",
       "      <td>0004_01</td>\n",
       "      <td>Earth</td>\n",
       "      <td>False</td>\n",
       "      <td>F/1/S</td>\n",
       "      <td>TRAPPIST-1e</td>\n",
       "      <td>16</td>\n",
       "      <td>False</td>\n",
       "      <td>303.0</td>\n",
       "      <td>70.0</td>\n",
       "      <td>151.0</td>\n",
       "      <td>565.0</td>\n",
       "      <td>2.0</td>\n",
       "      <td>Willy Santantines</td>\n",
       "      <td>True</td>\n",
       "    </tr>\n",
       "  </tbody>\n",
       "</table>\n",
       "</div>"
      ],
      "text/plain": [
       "  PassengerId HomePlanet CryoSleep  Cabin  Destination  Age    VIP  \\\n",
       "0     0001_01     Europa     False  B/0/P  TRAPPIST-1e   39  False   \n",
       "1     0002_01      Earth     False  F/0/S  TRAPPIST-1e   24  False   \n",
       "2     0003_01     Europa     False  A/0/S  TRAPPIST-1e   58   True   \n",
       "3     0003_02     Europa     False  A/0/S  TRAPPIST-1e   33  False   \n",
       "4     0004_01      Earth     False  F/1/S  TRAPPIST-1e   16  False   \n",
       "\n",
       "   RoomService  FoodCourt  ShoppingMall     Spa  VRDeck               Name  \\\n",
       "0          0.0        0.0           0.0     0.0     0.0    Maham Ofracculy   \n",
       "1        109.0        9.0          25.0   549.0    44.0       Juanna Vines   \n",
       "2         43.0     3576.0           0.0  6715.0    49.0      Altark Susent   \n",
       "3          0.0     1283.0         371.0  3329.0   193.0       Solam Susent   \n",
       "4        303.0       70.0         151.0   565.0     2.0  Willy Santantines   \n",
       "\n",
       "  Transported  \n",
       "0       False  \n",
       "1        True  \n",
       "2       False  \n",
       "3       False  \n",
       "4        True  "
      ]
     },
     "execution_count": 66,
     "metadata": {},
     "output_type": "execute_result"
    }
   ],
   "source": [
    "data.head()"
   ]
  },
  {
   "cell_type": "code",
   "execution_count": 67,
   "id": "35f854a2-3d34-4aee-9ff2-c6ae0ee42a2a",
   "metadata": {},
   "outputs": [
    {
     "data": {
      "text/html": [
       "<div>\n",
       "<style scoped>\n",
       "    .dataframe tbody tr th:only-of-type {\n",
       "        vertical-align: middle;\n",
       "    }\n",
       "\n",
       "    .dataframe tbody tr th {\n",
       "        vertical-align: top;\n",
       "    }\n",
       "\n",
       "    .dataframe thead th {\n",
       "        text-align: right;\n",
       "    }\n",
       "</style>\n",
       "<table border=\"1\" class=\"dataframe\">\n",
       "  <thead>\n",
       "    <tr style=\"text-align: right;\">\n",
       "      <th></th>\n",
       "      <th>PassengerId</th>\n",
       "      <th>HomePlanet</th>\n",
       "      <th>CryoSleep</th>\n",
       "      <th>Cabin</th>\n",
       "      <th>Destination</th>\n",
       "      <th>Age</th>\n",
       "      <th>VIP</th>\n",
       "      <th>RoomService</th>\n",
       "      <th>FoodCourt</th>\n",
       "      <th>ShoppingMall</th>\n",
       "      <th>Spa</th>\n",
       "      <th>VRDeck</th>\n",
       "      <th>Name</th>\n",
       "    </tr>\n",
       "  </thead>\n",
       "  <tbody>\n",
       "    <tr>\n",
       "      <th>0</th>\n",
       "      <td>0013_01</td>\n",
       "      <td>Earth</td>\n",
       "      <td>True</td>\n",
       "      <td>G/3/S</td>\n",
       "      <td>TRAPPIST-1e</td>\n",
       "      <td>27.0</td>\n",
       "      <td>False</td>\n",
       "      <td>0.0</td>\n",
       "      <td>0.0</td>\n",
       "      <td>0.0</td>\n",
       "      <td>0.0</td>\n",
       "      <td>0.0</td>\n",
       "      <td>Nelly Carsoning</td>\n",
       "    </tr>\n",
       "    <tr>\n",
       "      <th>1</th>\n",
       "      <td>0018_01</td>\n",
       "      <td>Earth</td>\n",
       "      <td>False</td>\n",
       "      <td>F/4/S</td>\n",
       "      <td>TRAPPIST-1e</td>\n",
       "      <td>19.0</td>\n",
       "      <td>False</td>\n",
       "      <td>0.0</td>\n",
       "      <td>9.0</td>\n",
       "      <td>0.0</td>\n",
       "      <td>2823.0</td>\n",
       "      <td>0.0</td>\n",
       "      <td>Lerome Peckers</td>\n",
       "    </tr>\n",
       "    <tr>\n",
       "      <th>2</th>\n",
       "      <td>0019_01</td>\n",
       "      <td>Europa</td>\n",
       "      <td>True</td>\n",
       "      <td>C/0/S</td>\n",
       "      <td>55 Cancri e</td>\n",
       "      <td>31.0</td>\n",
       "      <td>False</td>\n",
       "      <td>0.0</td>\n",
       "      <td>0.0</td>\n",
       "      <td>0.0</td>\n",
       "      <td>0.0</td>\n",
       "      <td>0.0</td>\n",
       "      <td>Sabih Unhearfus</td>\n",
       "    </tr>\n",
       "    <tr>\n",
       "      <th>3</th>\n",
       "      <td>0021_01</td>\n",
       "      <td>Europa</td>\n",
       "      <td>False</td>\n",
       "      <td>C/1/S</td>\n",
       "      <td>TRAPPIST-1e</td>\n",
       "      <td>38.0</td>\n",
       "      <td>False</td>\n",
       "      <td>0.0</td>\n",
       "      <td>6652.0</td>\n",
       "      <td>0.0</td>\n",
       "      <td>181.0</td>\n",
       "      <td>585.0</td>\n",
       "      <td>Meratz Caltilter</td>\n",
       "    </tr>\n",
       "    <tr>\n",
       "      <th>4</th>\n",
       "      <td>0023_01</td>\n",
       "      <td>Earth</td>\n",
       "      <td>False</td>\n",
       "      <td>F/5/S</td>\n",
       "      <td>TRAPPIST-1e</td>\n",
       "      <td>20.0</td>\n",
       "      <td>False</td>\n",
       "      <td>10.0</td>\n",
       "      <td>0.0</td>\n",
       "      <td>635.0</td>\n",
       "      <td>0.0</td>\n",
       "      <td>0.0</td>\n",
       "      <td>Brence Harperez</td>\n",
       "    </tr>\n",
       "  </tbody>\n",
       "</table>\n",
       "</div>"
      ],
      "text/plain": [
       "  PassengerId HomePlanet CryoSleep  Cabin  Destination   Age    VIP  \\\n",
       "0     0013_01      Earth      True  G/3/S  TRAPPIST-1e  27.0  False   \n",
       "1     0018_01      Earth     False  F/4/S  TRAPPIST-1e  19.0  False   \n",
       "2     0019_01     Europa      True  C/0/S  55 Cancri e  31.0  False   \n",
       "3     0021_01     Europa     False  C/1/S  TRAPPIST-1e  38.0  False   \n",
       "4     0023_01      Earth     False  F/5/S  TRAPPIST-1e  20.0  False   \n",
       "\n",
       "   RoomService  FoodCourt  ShoppingMall     Spa  VRDeck              Name  \n",
       "0          0.0        0.0           0.0     0.0     0.0   Nelly Carsoning  \n",
       "1          0.0        9.0           0.0  2823.0     0.0    Lerome Peckers  \n",
       "2          0.0        0.0           0.0     0.0     0.0   Sabih Unhearfus  \n",
       "3          0.0     6652.0           0.0   181.0   585.0  Meratz Caltilter  \n",
       "4         10.0        0.0         635.0     0.0     0.0   Brence Harperez  "
      ]
     },
     "execution_count": 67,
     "metadata": {},
     "output_type": "execute_result"
    }
   ],
   "source": [
    "test.head()"
   ]
  },
  {
   "cell_type": "code",
   "execution_count": 68,
   "id": "867e9729-3be1-4ddd-b184-1a64cdf37528",
   "metadata": {},
   "outputs": [
    {
     "data": {
      "text/html": [
       "<div>\n",
       "<style scoped>\n",
       "    .dataframe tbody tr th:only-of-type {\n",
       "        vertical-align: middle;\n",
       "    }\n",
       "\n",
       "    .dataframe tbody tr th {\n",
       "        vertical-align: top;\n",
       "    }\n",
       "\n",
       "    .dataframe thead th {\n",
       "        text-align: right;\n",
       "    }\n",
       "</style>\n",
       "<table border=\"1\" class=\"dataframe\">\n",
       "  <thead>\n",
       "    <tr style=\"text-align: right;\">\n",
       "      <th></th>\n",
       "      <th>HomePlanet</th>\n",
       "      <th>CryoSleep</th>\n",
       "      <th>Destination</th>\n",
       "      <th>Age</th>\n",
       "      <th>VIP</th>\n",
       "      <th>RoomService</th>\n",
       "      <th>FoodCourt</th>\n",
       "      <th>ShoppingMall</th>\n",
       "      <th>Spa</th>\n",
       "      <th>VRDeck</th>\n",
       "      <th>Transported</th>\n",
       "    </tr>\n",
       "  </thead>\n",
       "  <tbody>\n",
       "    <tr>\n",
       "      <th>0</th>\n",
       "      <td>Europa</td>\n",
       "      <td>False</td>\n",
       "      <td>TRAPPIST-1e</td>\n",
       "      <td>39</td>\n",
       "      <td>False</td>\n",
       "      <td>0.0</td>\n",
       "      <td>0.0</td>\n",
       "      <td>0.0</td>\n",
       "      <td>0.0</td>\n",
       "      <td>0.0</td>\n",
       "      <td>False</td>\n",
       "    </tr>\n",
       "    <tr>\n",
       "      <th>1</th>\n",
       "      <td>Earth</td>\n",
       "      <td>False</td>\n",
       "      <td>TRAPPIST-1e</td>\n",
       "      <td>24</td>\n",
       "      <td>False</td>\n",
       "      <td>109.0</td>\n",
       "      <td>9.0</td>\n",
       "      <td>25.0</td>\n",
       "      <td>549.0</td>\n",
       "      <td>44.0</td>\n",
       "      <td>True</td>\n",
       "    </tr>\n",
       "    <tr>\n",
       "      <th>2</th>\n",
       "      <td>Europa</td>\n",
       "      <td>False</td>\n",
       "      <td>TRAPPIST-1e</td>\n",
       "      <td>58</td>\n",
       "      <td>True</td>\n",
       "      <td>43.0</td>\n",
       "      <td>3576.0</td>\n",
       "      <td>0.0</td>\n",
       "      <td>6715.0</td>\n",
       "      <td>49.0</td>\n",
       "      <td>False</td>\n",
       "    </tr>\n",
       "    <tr>\n",
       "      <th>3</th>\n",
       "      <td>Europa</td>\n",
       "      <td>False</td>\n",
       "      <td>TRAPPIST-1e</td>\n",
       "      <td>33</td>\n",
       "      <td>False</td>\n",
       "      <td>0.0</td>\n",
       "      <td>1283.0</td>\n",
       "      <td>371.0</td>\n",
       "      <td>3329.0</td>\n",
       "      <td>193.0</td>\n",
       "      <td>False</td>\n",
       "    </tr>\n",
       "    <tr>\n",
       "      <th>4</th>\n",
       "      <td>Earth</td>\n",
       "      <td>False</td>\n",
       "      <td>TRAPPIST-1e</td>\n",
       "      <td>16</td>\n",
       "      <td>False</td>\n",
       "      <td>303.0</td>\n",
       "      <td>70.0</td>\n",
       "      <td>151.0</td>\n",
       "      <td>565.0</td>\n",
       "      <td>2.0</td>\n",
       "      <td>True</td>\n",
       "    </tr>\n",
       "  </tbody>\n",
       "</table>\n",
       "</div>"
      ],
      "text/plain": [
       "  HomePlanet CryoSleep  Destination  Age    VIP  RoomService  FoodCourt  \\\n",
       "0     Europa     False  TRAPPIST-1e   39  False          0.0        0.0   \n",
       "1      Earth     False  TRAPPIST-1e   24  False        109.0        9.0   \n",
       "2     Europa     False  TRAPPIST-1e   58   True         43.0     3576.0   \n",
       "3     Europa     False  TRAPPIST-1e   33  False          0.0     1283.0   \n",
       "4      Earth     False  TRAPPIST-1e   16  False        303.0       70.0   \n",
       "\n",
       "   ShoppingMall     Spa  VRDeck Transported  \n",
       "0           0.0     0.0     0.0       False  \n",
       "1          25.0   549.0    44.0        True  \n",
       "2           0.0  6715.0    49.0       False  \n",
       "3         371.0  3329.0   193.0       False  \n",
       "4         151.0   565.0     2.0        True  "
      ]
     },
     "execution_count": 68,
     "metadata": {},
     "output_type": "execute_result"
    }
   ],
   "source": [
    "train_data=data.drop([\"PassengerId\",\"Name\",\"Cabin\"],axis=1)\n",
    "train_data.head()"
   ]
  },
  {
   "cell_type": "code",
   "execution_count": 69,
   "id": "8a97d359-ce5c-4d83-b842-a520c2fd2f05",
   "metadata": {},
   "outputs": [
    {
     "data": {
      "text/html": [
       "<div>\n",
       "<style scoped>\n",
       "    .dataframe tbody tr th:only-of-type {\n",
       "        vertical-align: middle;\n",
       "    }\n",
       "\n",
       "    .dataframe tbody tr th {\n",
       "        vertical-align: top;\n",
       "    }\n",
       "\n",
       "    .dataframe thead th {\n",
       "        text-align: right;\n",
       "    }\n",
       "</style>\n",
       "<table border=\"1\" class=\"dataframe\">\n",
       "  <thead>\n",
       "    <tr style=\"text-align: right;\">\n",
       "      <th></th>\n",
       "      <th>PassengerId</th>\n",
       "      <th>HomePlanet</th>\n",
       "      <th>CryoSleep</th>\n",
       "      <th>Cabin</th>\n",
       "      <th>Destination</th>\n",
       "      <th>Age</th>\n",
       "      <th>VIP</th>\n",
       "      <th>RoomService</th>\n",
       "      <th>FoodCourt</th>\n",
       "      <th>ShoppingMall</th>\n",
       "      <th>Spa</th>\n",
       "      <th>VRDeck</th>\n",
       "      <th>Name</th>\n",
       "    </tr>\n",
       "  </thead>\n",
       "  <tbody>\n",
       "    <tr>\n",
       "      <th>0</th>\n",
       "      <td>0013_01</td>\n",
       "      <td>Earth</td>\n",
       "      <td>True</td>\n",
       "      <td>G/3/S</td>\n",
       "      <td>TRAPPIST-1e</td>\n",
       "      <td>27.0</td>\n",
       "      <td>False</td>\n",
       "      <td>0.0</td>\n",
       "      <td>0.0</td>\n",
       "      <td>0.0</td>\n",
       "      <td>0.0</td>\n",
       "      <td>0.0</td>\n",
       "      <td>Nelly Carsoning</td>\n",
       "    </tr>\n",
       "    <tr>\n",
       "      <th>1</th>\n",
       "      <td>0018_01</td>\n",
       "      <td>Earth</td>\n",
       "      <td>False</td>\n",
       "      <td>F/4/S</td>\n",
       "      <td>TRAPPIST-1e</td>\n",
       "      <td>19.0</td>\n",
       "      <td>False</td>\n",
       "      <td>0.0</td>\n",
       "      <td>9.0</td>\n",
       "      <td>0.0</td>\n",
       "      <td>2823.0</td>\n",
       "      <td>0.0</td>\n",
       "      <td>Lerome Peckers</td>\n",
       "    </tr>\n",
       "    <tr>\n",
       "      <th>2</th>\n",
       "      <td>0019_01</td>\n",
       "      <td>Europa</td>\n",
       "      <td>True</td>\n",
       "      <td>C/0/S</td>\n",
       "      <td>55 Cancri e</td>\n",
       "      <td>31.0</td>\n",
       "      <td>False</td>\n",
       "      <td>0.0</td>\n",
       "      <td>0.0</td>\n",
       "      <td>0.0</td>\n",
       "      <td>0.0</td>\n",
       "      <td>0.0</td>\n",
       "      <td>Sabih Unhearfus</td>\n",
       "    </tr>\n",
       "    <tr>\n",
       "      <th>3</th>\n",
       "      <td>0021_01</td>\n",
       "      <td>Europa</td>\n",
       "      <td>False</td>\n",
       "      <td>C/1/S</td>\n",
       "      <td>TRAPPIST-1e</td>\n",
       "      <td>38.0</td>\n",
       "      <td>False</td>\n",
       "      <td>0.0</td>\n",
       "      <td>6652.0</td>\n",
       "      <td>0.0</td>\n",
       "      <td>181.0</td>\n",
       "      <td>585.0</td>\n",
       "      <td>Meratz Caltilter</td>\n",
       "    </tr>\n",
       "    <tr>\n",
       "      <th>4</th>\n",
       "      <td>0023_01</td>\n",
       "      <td>Earth</td>\n",
       "      <td>False</td>\n",
       "      <td>F/5/S</td>\n",
       "      <td>TRAPPIST-1e</td>\n",
       "      <td>20.0</td>\n",
       "      <td>False</td>\n",
       "      <td>10.0</td>\n",
       "      <td>0.0</td>\n",
       "      <td>635.0</td>\n",
       "      <td>0.0</td>\n",
       "      <td>0.0</td>\n",
       "      <td>Brence Harperez</td>\n",
       "    </tr>\n",
       "  </tbody>\n",
       "</table>\n",
       "</div>"
      ],
      "text/plain": [
       "  PassengerId HomePlanet CryoSleep  Cabin  Destination   Age    VIP  \\\n",
       "0     0013_01      Earth      True  G/3/S  TRAPPIST-1e  27.0  False   \n",
       "1     0018_01      Earth     False  F/4/S  TRAPPIST-1e  19.0  False   \n",
       "2     0019_01     Europa      True  C/0/S  55 Cancri e  31.0  False   \n",
       "3     0021_01     Europa     False  C/1/S  TRAPPIST-1e  38.0  False   \n",
       "4     0023_01      Earth     False  F/5/S  TRAPPIST-1e  20.0  False   \n",
       "\n",
       "   RoomService  FoodCourt  ShoppingMall     Spa  VRDeck              Name  \n",
       "0          0.0        0.0           0.0     0.0     0.0   Nelly Carsoning  \n",
       "1          0.0        9.0           0.0  2823.0     0.0    Lerome Peckers  \n",
       "2          0.0        0.0           0.0     0.0     0.0   Sabih Unhearfus  \n",
       "3          0.0     6652.0           0.0   181.0   585.0  Meratz Caltilter  \n",
       "4         10.0        0.0         635.0     0.0     0.0   Brence Harperez  "
      ]
     },
     "execution_count": 69,
     "metadata": {},
     "output_type": "execute_result"
    }
   ],
   "source": [
    "test.head()"
   ]
  },
  {
   "cell_type": "code",
   "execution_count": 70,
   "id": "a7566862-9f86-45ad-826b-44056d90914b",
   "metadata": {},
   "outputs": [
    {
     "data": {
      "text/html": [
       "<div>\n",
       "<style scoped>\n",
       "    .dataframe tbody tr th:only-of-type {\n",
       "        vertical-align: middle;\n",
       "    }\n",
       "\n",
       "    .dataframe tbody tr th {\n",
       "        vertical-align: top;\n",
       "    }\n",
       "\n",
       "    .dataframe thead th {\n",
       "        text-align: right;\n",
       "    }\n",
       "</style>\n",
       "<table border=\"1\" class=\"dataframe\">\n",
       "  <thead>\n",
       "    <tr style=\"text-align: right;\">\n",
       "      <th></th>\n",
       "      <th>HomePlanet</th>\n",
       "      <th>CryoSleep</th>\n",
       "      <th>Destination</th>\n",
       "      <th>Age</th>\n",
       "      <th>VIP</th>\n",
       "      <th>RoomService</th>\n",
       "      <th>FoodCourt</th>\n",
       "      <th>ShoppingMall</th>\n",
       "      <th>Spa</th>\n",
       "      <th>VRDeck</th>\n",
       "    </tr>\n",
       "  </thead>\n",
       "  <tbody>\n",
       "    <tr>\n",
       "      <th>0</th>\n",
       "      <td>Earth</td>\n",
       "      <td>True</td>\n",
       "      <td>TRAPPIST-1e</td>\n",
       "      <td>27.0</td>\n",
       "      <td>False</td>\n",
       "      <td>0.0</td>\n",
       "      <td>0.0</td>\n",
       "      <td>0.0</td>\n",
       "      <td>0.0</td>\n",
       "      <td>0.0</td>\n",
       "    </tr>\n",
       "    <tr>\n",
       "      <th>1</th>\n",
       "      <td>Earth</td>\n",
       "      <td>False</td>\n",
       "      <td>TRAPPIST-1e</td>\n",
       "      <td>19.0</td>\n",
       "      <td>False</td>\n",
       "      <td>0.0</td>\n",
       "      <td>9.0</td>\n",
       "      <td>0.0</td>\n",
       "      <td>2823.0</td>\n",
       "      <td>0.0</td>\n",
       "    </tr>\n",
       "    <tr>\n",
       "      <th>2</th>\n",
       "      <td>Europa</td>\n",
       "      <td>True</td>\n",
       "      <td>55 Cancri e</td>\n",
       "      <td>31.0</td>\n",
       "      <td>False</td>\n",
       "      <td>0.0</td>\n",
       "      <td>0.0</td>\n",
       "      <td>0.0</td>\n",
       "      <td>0.0</td>\n",
       "      <td>0.0</td>\n",
       "    </tr>\n",
       "    <tr>\n",
       "      <th>3</th>\n",
       "      <td>Europa</td>\n",
       "      <td>False</td>\n",
       "      <td>TRAPPIST-1e</td>\n",
       "      <td>38.0</td>\n",
       "      <td>False</td>\n",
       "      <td>0.0</td>\n",
       "      <td>6652.0</td>\n",
       "      <td>0.0</td>\n",
       "      <td>181.0</td>\n",
       "      <td>585.0</td>\n",
       "    </tr>\n",
       "    <tr>\n",
       "      <th>4</th>\n",
       "      <td>Earth</td>\n",
       "      <td>False</td>\n",
       "      <td>TRAPPIST-1e</td>\n",
       "      <td>20.0</td>\n",
       "      <td>False</td>\n",
       "      <td>10.0</td>\n",
       "      <td>0.0</td>\n",
       "      <td>635.0</td>\n",
       "      <td>0.0</td>\n",
       "      <td>0.0</td>\n",
       "    </tr>\n",
       "  </tbody>\n",
       "</table>\n",
       "</div>"
      ],
      "text/plain": [
       "  HomePlanet CryoSleep  Destination   Age    VIP  RoomService  FoodCourt  \\\n",
       "0      Earth      True  TRAPPIST-1e  27.0  False          0.0        0.0   \n",
       "1      Earth     False  TRAPPIST-1e  19.0  False          0.0        9.0   \n",
       "2     Europa      True  55 Cancri e  31.0  False          0.0        0.0   \n",
       "3     Europa     False  TRAPPIST-1e  38.0  False          0.0     6652.0   \n",
       "4      Earth     False  TRAPPIST-1e  20.0  False         10.0        0.0   \n",
       "\n",
       "   ShoppingMall     Spa  VRDeck  \n",
       "0           0.0     0.0     0.0  \n",
       "1           0.0  2823.0     0.0  \n",
       "2           0.0     0.0     0.0  \n",
       "3           0.0   181.0   585.0  \n",
       "4         635.0     0.0     0.0  "
      ]
     },
     "execution_count": 70,
     "metadata": {},
     "output_type": "execute_result"
    }
   ],
   "source": [
    "test_data = test.drop([\"PassengerId\",\"Name\",\"Cabin\"],axis=1)\n",
    "test_data.head()"
   ]
  },
  {
   "cell_type": "code",
   "execution_count": 71,
   "id": "c2492409-e5d9-4866-a212-7396c8f1a077",
   "metadata": {},
   "outputs": [],
   "source": [
    "# from sklearn.preprocessing import OneHotEncoder\n",
    "# encoder=OneHotEncoder(drop=\"first\")\n",
    "\n",
    "# encode_data=encoder.fit_transform(train_data)"
   ]
  },
  {
   "cell_type": "code",
   "execution_count": 72,
   "id": "a5b396e4-3cf3-4829-9e5f-1055a1436ca6",
   "metadata": {},
   "outputs": [],
   "source": [
    "\n",
    "# Identify categorical columns\n",
    "categorical_cols = [\"HomePlanet\", \"CryoSleep\", \"Destination\", \"VIP\", \"Transported\"] \n",
    "# Apply One-Hot Encoding using pd.get_dummies()\n",
    "train_data_encoded = pd.get_dummies(train_data, columns=categorical_cols, drop_first=True)\n",
    "\n",
    "# Convert boolean columns to integer (if needed)\n",
    "train_data_encoded = train_data_encoded.astype(int)\n",
    "\n"
   ]
  },
  {
   "cell_type": "code",
   "execution_count": 73,
   "id": "0b26d4a9-cf93-49f9-97f6-ad163577ebd5",
   "metadata": {},
   "outputs": [
    {
     "data": {
      "text/html": [
       "<div>\n",
       "<style scoped>\n",
       "    .dataframe tbody tr th:only-of-type {\n",
       "        vertical-align: middle;\n",
       "    }\n",
       "\n",
       "    .dataframe tbody tr th {\n",
       "        vertical-align: top;\n",
       "    }\n",
       "\n",
       "    .dataframe thead th {\n",
       "        text-align: right;\n",
       "    }\n",
       "</style>\n",
       "<table border=\"1\" class=\"dataframe\">\n",
       "  <thead>\n",
       "    <tr style=\"text-align: right;\">\n",
       "      <th></th>\n",
       "      <th>Age</th>\n",
       "      <th>RoomService</th>\n",
       "      <th>FoodCourt</th>\n",
       "      <th>ShoppingMall</th>\n",
       "      <th>Spa</th>\n",
       "      <th>VRDeck</th>\n",
       "      <th>HomePlanet_Europa</th>\n",
       "      <th>HomePlanet_Mars</th>\n",
       "      <th>CryoSleep_True</th>\n",
       "      <th>Destination_PSO J318.5-22</th>\n",
       "      <th>Destination_TRAPPIST-1e</th>\n",
       "      <th>VIP_True</th>\n",
       "      <th>Transported_True</th>\n",
       "    </tr>\n",
       "  </thead>\n",
       "  <tbody>\n",
       "    <tr>\n",
       "      <th>0</th>\n",
       "      <td>39</td>\n",
       "      <td>0</td>\n",
       "      <td>0</td>\n",
       "      <td>0</td>\n",
       "      <td>0</td>\n",
       "      <td>0</td>\n",
       "      <td>1</td>\n",
       "      <td>0</td>\n",
       "      <td>0</td>\n",
       "      <td>0</td>\n",
       "      <td>1</td>\n",
       "      <td>0</td>\n",
       "      <td>0</td>\n",
       "    </tr>\n",
       "    <tr>\n",
       "      <th>1</th>\n",
       "      <td>24</td>\n",
       "      <td>109</td>\n",
       "      <td>9</td>\n",
       "      <td>25</td>\n",
       "      <td>549</td>\n",
       "      <td>44</td>\n",
       "      <td>0</td>\n",
       "      <td>0</td>\n",
       "      <td>0</td>\n",
       "      <td>0</td>\n",
       "      <td>1</td>\n",
       "      <td>0</td>\n",
       "      <td>1</td>\n",
       "    </tr>\n",
       "    <tr>\n",
       "      <th>2</th>\n",
       "      <td>58</td>\n",
       "      <td>43</td>\n",
       "      <td>3576</td>\n",
       "      <td>0</td>\n",
       "      <td>6715</td>\n",
       "      <td>49</td>\n",
       "      <td>1</td>\n",
       "      <td>0</td>\n",
       "      <td>0</td>\n",
       "      <td>0</td>\n",
       "      <td>1</td>\n",
       "      <td>1</td>\n",
       "      <td>0</td>\n",
       "    </tr>\n",
       "    <tr>\n",
       "      <th>3</th>\n",
       "      <td>33</td>\n",
       "      <td>0</td>\n",
       "      <td>1283</td>\n",
       "      <td>371</td>\n",
       "      <td>3329</td>\n",
       "      <td>193</td>\n",
       "      <td>1</td>\n",
       "      <td>0</td>\n",
       "      <td>0</td>\n",
       "      <td>0</td>\n",
       "      <td>1</td>\n",
       "      <td>0</td>\n",
       "      <td>0</td>\n",
       "    </tr>\n",
       "    <tr>\n",
       "      <th>4</th>\n",
       "      <td>16</td>\n",
       "      <td>303</td>\n",
       "      <td>70</td>\n",
       "      <td>151</td>\n",
       "      <td>565</td>\n",
       "      <td>2</td>\n",
       "      <td>0</td>\n",
       "      <td>0</td>\n",
       "      <td>0</td>\n",
       "      <td>0</td>\n",
       "      <td>1</td>\n",
       "      <td>0</td>\n",
       "      <td>1</td>\n",
       "    </tr>\n",
       "  </tbody>\n",
       "</table>\n",
       "</div>"
      ],
      "text/plain": [
       "   Age  RoomService  FoodCourt  ShoppingMall   Spa  VRDeck  HomePlanet_Europa  \\\n",
       "0   39            0          0             0     0       0                  1   \n",
       "1   24          109          9            25   549      44                  0   \n",
       "2   58           43       3576             0  6715      49                  1   \n",
       "3   33            0       1283           371  3329     193                  1   \n",
       "4   16          303         70           151   565       2                  0   \n",
       "\n",
       "   HomePlanet_Mars  CryoSleep_True  Destination_PSO J318.5-22  \\\n",
       "0                0               0                          0   \n",
       "1                0               0                          0   \n",
       "2                0               0                          0   \n",
       "3                0               0                          0   \n",
       "4                0               0                          0   \n",
       "\n",
       "   Destination_TRAPPIST-1e  VIP_True  Transported_True  \n",
       "0                        1         0                 0  \n",
       "1                        1         0                 1  \n",
       "2                        1         1                 0  \n",
       "3                        1         0                 0  \n",
       "4                        1         0                 1  "
      ]
     },
     "execution_count": 73,
     "metadata": {},
     "output_type": "execute_result"
    }
   ],
   "source": [
    "train_data_encoded.head()"
   ]
  },
  {
   "cell_type": "code",
   "execution_count": 74,
   "id": "9720899b-32d6-406c-b9e3-277e56b34904",
   "metadata": {},
   "outputs": [],
   "source": [
    "# Dependent and independent variable\n",
    "\n",
    "x = train_data_encoded.drop(columns=[\"Transported_True\"])\n",
    "y= train_data_encoded[\"Transported_True\"]"
   ]
  },
  {
   "cell_type": "code",
   "execution_count": 75,
   "id": "230ce6b2-1d56-497b-b766-1f7a7d861703",
   "metadata": {},
   "outputs": [],
   "source": [
    "from sklearn.model_selection import train_test_split\n",
    "x_train,x_test,y_train,y_test=train_test_split(x,y,test_size=0.2,random_state=0)"
   ]
  },
  {
   "cell_type": "code",
   "execution_count": 76,
   "id": "7244f9a6-cd34-4e67-8398-451b235119b1",
   "metadata": {},
   "outputs": [],
   "source": [
    "from sklearn.preprocessing import StandardScaler\n",
    "sc=StandardScaler()\n",
    "x_train=sc.fit_transform(x_train)\n",
    "x_test=sc.transform(x_test)"
   ]
  },
  {
   "cell_type": "markdown",
   "id": "cc7569e7-9bcb-4056-9063-44edcaddaadc",
   "metadata": {},
   "source": [
    "# Model 1"
   ]
  },
  {
   "cell_type": "code",
   "execution_count": 78,
   "id": "48c81214-d455-4e2e-8a3d-9a791433a341",
   "metadata": {},
   "outputs": [
    {
     "name": "stdout",
     "output_type": "stream",
     "text": [
      "The best parameter: \n",
      " {'C': 6, 'max_iter': 100, 'solver': 'liblinear'}\n"
     ]
    }
   ],
   "source": [
    "# finding best parameter using grid search cv\n",
    "from sklearn.model_selection import GridSearchCV\n",
    "from sklearn.linear_model import LogisticRegression\n",
    "\n",
    "model=LogisticRegression()\n",
    "\n",
    "param_grid={\n",
    "    \"C\":[0.01,0.1,2,3,4,6,10,20],\n",
    "    \"solver\":[\"lgfgs\",\"liblinear\"],\n",
    "    \"max_iter\":[100,200,500,800,1000]\n",
    "}\n",
    "\n",
    "grid_search=GridSearchCV(estimator=model,param_grid=param_grid,cv=5,scoring=\"accuracy\")\n",
    "\n",
    "grid_search.fit(x_train,y_train)\n",
    "\n",
    "#best parameter\n",
    "print(\"The best parameter: \\n\",grid_search.best_params_)"
   ]
  },
  {
   "cell_type": "code",
   "execution_count": 79,
   "id": "731fb6a2-2898-41b9-9446-1c1dc35f8368",
   "metadata": {},
   "outputs": [
    {
     "name": "stdout",
     "output_type": "stream",
     "text": [
      "The model accuracy:  0.7757331799884991\n",
      "The model report:                precision    recall  f1-score   support\n",
      "\n",
      "           0       0.77      0.77      0.77       863\n",
      "           1       0.78      0.78      0.78       876\n",
      "\n",
      "    accuracy                           0.78      1739\n",
      "   macro avg       0.78      0.78      0.78      1739\n",
      "weighted avg       0.78      0.78      0.78      1739\n",
      "\n",
      "The Bais score:  0.7867414437733679\n",
      "The variance score:  0.7757331799884991\n"
     ]
    }
   ],
   "source": [
    "model=LogisticRegression(C=0.1,max_iter=100,solver=\"liblinear\")\n",
    "model.fit(x_train,y_train)\n",
    "\n",
    "y_pred=model.predict(x_test)\n",
    "\n",
    "from sklearn.metrics import accuracy_score,classification_report\n",
    "\n",
    "accuracy=accuracy_score(y_test,y_pred)\n",
    "report=classification_report(y_test,y_pred)\n",
    "\n",
    "print(\"The model accuracy: \",accuracy)\n",
    "print(\"The model report: \", report)\n",
    "\n",
    "# \n",
    "bais=model.score(x_train,y_train)\n",
    "var=model.score(x_test,y_test)\n",
    "\n",
    "print(\"The Bais score: \", bais)\n",
    "\n",
    "print(\"The variance score: \", var)"
   ]
  },
  {
   "cell_type": "code",
   "execution_count": null,
   "id": "a2090c31-d1b2-43e5-aed0-5bf79d478179",
   "metadata": {},
   "outputs": [],
   "source": [
    "\n"
   ]
  },
  {
   "cell_type": "code",
   "execution_count": 80,
   "id": "32883a0b-5941-4d3f-b142-f1ae6afe8a5b",
   "metadata": {},
   "outputs": [
    {
     "data": {
      "text/plain": [
       "array([0])"
      ]
     },
     "execution_count": 80,
     "metadata": {},
     "output_type": "execute_result"
    }
   ],
   "source": [
    "model.predict([[23,0,234,122,0,212,0,0,1,0,1,0]])"
   ]
  },
  {
   "cell_type": "markdown",
   "id": "7af16d52-7309-47f9-81fa-5c7b97c255c6",
   "metadata": {},
   "source": [
    "# Model 2 Decission Tree"
   ]
  },
  {
   "cell_type": "code",
   "execution_count": 82,
   "id": "5ea3692f-19c3-44b5-8870-0893a897ec58",
   "metadata": {},
   "outputs": [
    {
     "name": "stdout",
     "output_type": "stream",
     "text": [
      "{'criterion': 'gini', 'max_depth': 10, 'max_features': None, 'min_samples_leaf': 4, 'min_samples_split': 2, 'splitter': 'random'}\n"
     ]
    }
   ],
   "source": [
    "# Decission Tree\n",
    "\n",
    "from sklearn.tree import DecisionTreeClassifier\n",
    "from sklearn.model_selection import GridSearchCV\n",
    "DT=DecisionTreeClassifier()\n",
    "\n",
    "param_grid1={\n",
    "    \"criterion\": [\"gini\", \"entropy\"],\n",
    "    \"max_depth\":[3,5,20,10,15,None],\n",
    "    \"min_samples_split\": [2, 5, 10],\n",
    "    \"min_samples_leaf\": [1, 2, 4, 8],\n",
    "    \"max_features\": [None, \"sqrt\", \"log2\"],\n",
    "    \"splitter\": [\"best\", \"random\"]\n",
    "    \n",
    "}\n",
    "\n",
    "grid_search1=GridSearchCV(DT,param_grid=param_grid1,cv=5,scoring=\"accuracy\")\n",
    "\n",
    "grid_search1.fit(x_train,y_train)\n",
    "print(grid_search1.best_params_)"
   ]
  },
  {
   "cell_type": "code",
   "execution_count": 83,
   "id": "b7f216ea-24c6-4de0-b1e8-025aa188f2fe",
   "metadata": {},
   "outputs": [
    {
     "name": "stdout",
     "output_type": "stream",
     "text": [
      "The model accuracy:  0.7354801610120759\n",
      "The model report:                precision    recall  f1-score   support\n",
      "\n",
      "           0       0.73      0.74      0.74       863\n",
      "           1       0.74      0.73      0.74       876\n",
      "\n",
      "    accuracy                           0.74      1739\n",
      "   macro avg       0.74      0.74      0.74      1739\n",
      "weighted avg       0.74      0.74      0.74      1739\n",
      "\n",
      "The Bais score:  0.7499280989358642\n",
      "The variance score:  0.7354801610120759\n"
     ]
    }
   ],
   "source": [
    "DT=DecisionTreeClassifier(\n",
    "    criterion=\"gini\",\n",
    "    max_depth=10,\n",
    "    max_features=\"sqrt\",\n",
    "    min_samples_leaf=8,\n",
    "    min_samples_split=10,\n",
    "    splitter=\"random\",\n",
    "\n",
    ")\n",
    "\n",
    "DT.fit(x_train,y_train)\n",
    "\n",
    "y_pred=DT.predict(x_test)\n",
    "\n",
    "\n",
    "accuracy=accuracy_score(y_test,y_pred)\n",
    "report=classification_report(y_test,y_pred)\n",
    "\n",
    "print(\"The model accuracy: \",accuracy)\n",
    "print(\"The model report: \", report)\n",
    "\n",
    " \n",
    "bais=DT.score(x_train,y_train)\n",
    "var=DT.score(x_test,y_test)\n",
    "\n",
    "print(\"The Bais score: \", bais)\n",
    "\n",
    "print(\"The variance score: \", var)"
   ]
  },
  {
   "cell_type": "code",
   "execution_count": null,
   "id": "822c0c7f-d0cf-41ee-aa75-a633c382c6d7",
   "metadata": {},
   "outputs": [],
   "source": []
  },
  {
   "cell_type": "markdown",
   "id": "37db630d-f26c-41e8-b306-0daeac33e818",
   "metadata": {},
   "source": [
    "# model 3 "
   ]
  },
  {
   "cell_type": "code",
   "execution_count": 85,
   "id": "bdb4f3bd-1ab9-49f8-bde0-17cb0fe11beb",
   "metadata": {},
   "outputs": [
    {
     "name": "stdout",
     "output_type": "stream",
     "text": [
      "{'bootstrap': True, 'criterion': 'entropy', 'n_estimators': 200}\n"
     ]
    }
   ],
   "source": [
    "# Random Forest\n",
    "\n",
    "from sklearn.ensemble import RandomForestClassifier\n",
    "RF=RandomForestClassifier()\n",
    "\n",
    "params={\n",
    "    \"n_estimators\": [50, 100, 200, 500],\n",
    "    \"criterion\": [\"gini\", \"entropy\"],\n",
    "    \"bootstrap\": [True, False]\n",
    "}\n",
    "\n",
    "grid_search=GridSearchCV(RF,param_grid=params,cv=5,scoring=\"accuracy\")\n",
    "\n",
    "grid_search.fit(x_train,y_train)\n",
    "\n",
    "print(grid_search.best_params_)"
   ]
  },
  {
   "cell_type": "code",
   "execution_count": 86,
   "id": "524b207f-d2b3-4a98-bdce-e8f31945a28c",
   "metadata": {},
   "outputs": [
    {
     "name": "stdout",
     "output_type": "stream",
     "text": [
      "The model accuracy:  0.7912593444508338\n",
      "The model report:                precision    recall  f1-score   support\n",
      "\n",
      "           0       0.80      0.77      0.78       863\n",
      "           1       0.78      0.82      0.80       876\n",
      "\n",
      "    accuracy                           0.79      1739\n",
      "   macro avg       0.79      0.79      0.79      1739\n",
      "weighted avg       0.79      0.79      0.79      1739\n",
      "\n",
      "The Bais score:  0.8318953120506184\n",
      "The variance score:  0.7912593444508338\n"
     ]
    }
   ],
   "source": [
    "RF= RandomForestClassifier(\n",
    "    bootstrap=True,\n",
    "    criterion=\"entropy\",\n",
    "    n_estimators=500,\n",
    "    max_depth=9\n",
    "    \n",
    ")\n",
    "RF.fit(x_train,y_train)\n",
    "\n",
    "y_pred=RF.predict(x_test)\n",
    "\n",
    "\n",
    "accuracy=accuracy_score(y_test,y_pred)\n",
    "report=classification_report(y_test,y_pred)\n",
    "\n",
    "print(\"The model accuracy: \",accuracy)\n",
    "print(\"The model report: \", report)\n",
    "\n",
    " \n",
    "bais=RF.score(x_train,y_train)\n",
    "var=RF.score(x_test,y_test)\n",
    "\n",
    "print(\"The Bais score: \", bais)\n",
    "\n",
    "print(\"The variance score: \", var)"
   ]
  },
  {
   "cell_type": "code",
   "execution_count": 208,
   "id": "a8ad2eb8-2432-43b1-8270-91978a1319fa",
   "metadata": {},
   "outputs": [
    {
     "data": {
      "text/plain": [
       "<property at 0x1e710e762a0>"
      ]
     },
     "execution_count": 208,
     "metadata": {},
     "output_type": "execute_result"
    }
   ],
   "source": [
    "RandomForestClassifier.feature_importances_"
   ]
  },
  {
   "cell_type": "code",
   "execution_count": null,
   "id": "63dc7298-43f6-4b94-9800-3365114e22ef",
   "metadata": {},
   "outputs": [],
   "source": []
  },
  {
   "cell_type": "markdown",
   "id": "de5a069e-e9ba-4997-ade1-5a72b03f91db",
   "metadata": {},
   "source": [
    "# Model 4 xgbooat"
   ]
  },
  {
   "cell_type": "code",
   "execution_count": 88,
   "id": "ce7a2f90-f12b-4ef6-93c9-f32f283f172c",
   "metadata": {},
   "outputs": [
    {
     "name": "stdout",
     "output_type": "stream",
     "text": [
      "The model accuracy:  0.780333525014376\n",
      "The model report:                precision    recall  f1-score   support\n",
      "\n",
      "           0       0.80      0.75      0.77       863\n",
      "           1       0.76      0.82      0.79       876\n",
      "\n",
      "    accuracy                           0.78      1739\n",
      "   macro avg       0.78      0.78      0.78      1739\n",
      "weighted avg       0.78      0.78      0.78      1739\n",
      "\n",
      "The Bais score:  0.8832326718435433\n",
      "The variance score:  0.780333525014376\n"
     ]
    }
   ],
   "source": [
    "# XGBOOST\n",
    "\n",
    "from xgboost import XGBClassifier\n",
    "from sklearn.model_selection import GridSearchCV\n",
    "\n",
    "\n",
    "xgb=XGBClassifier()\n",
    "\n",
    "xgb.fit(x_train,y_train)\n",
    "y_pred=xgb.predict(x_test)\n",
    "\n",
    "\n",
    "accuracy=accuracy_score(y_test,y_pred)\n",
    "report=classification_report(y_test,y_pred)\n",
    "\n",
    "print(\"The model accuracy: \",accuracy)\n",
    "print(\"The model report: \", report)\n",
    "\n",
    " \n",
    "bais=xgb.score(x_train,y_train)\n",
    "var=xgb.score(x_test,y_test)\n",
    "\n",
    "print(\"The Bais score: \", bais)\n",
    "\n",
    "print(\"The variance score: \", var)\n"
   ]
  },
  {
   "cell_type": "code",
   "execution_count": null,
   "id": "f62a7a9d-6004-41d6-a302-970cc76b26a2",
   "metadata": {},
   "outputs": [],
   "source": []
  },
  {
   "cell_type": "code",
   "execution_count": 89,
   "id": "a1507130-90d6-4ae0-90cf-d1306d4b57f0",
   "metadata": {},
   "outputs": [
    {
     "data": {
      "text/plain": [
       "'from sklearn.model_selection import GridSearchCV\\nimport lightgbm as lgb\\n\\nlgbm=lgb.LGBMClassifier()\\nparms={\\n    \\'n_estimators\\': [100, 300, 500],          \\n    \\'learning_rate\\': [0.01, 0.05, 0.1],       \\n    \\'max_depth\\': [3, 5, 7],                   \\n    \\'num_leaves\\': [20, 31, 40],               \\n    \\'lambda_l1\\': [0, 0.1, 1],                 \\n    \\'lambda_l2\\': [0, 0.1, 1],                 \\n    \\'min_child_samples\\': [10, 20, 30]         \\n\\n}\\n\\ngrid_search=GridSearchCV(lgbm,param_grid=parms,cv=5,scoring=\"accuracy\",n_jobs=-1,verbose=2)\\n\\ngrid_search.fit(x_train,y_train)\\n\\nprint(grid_search.best_params_)'"
      ]
     },
     "execution_count": 89,
     "metadata": {},
     "output_type": "execute_result"
    }
   ],
   "source": [
    "'''from sklearn.model_selection import GridSearchCV\n",
    "import lightgbm as lgb\n",
    "\n",
    "lgbm=lgb.LGBMClassifier()\n",
    "parms={\n",
    "    'n_estimators': [100, 300, 500],          \n",
    "    'learning_rate': [0.01, 0.05, 0.1],       \n",
    "    'max_depth': [3, 5, 7],                   \n",
    "    'num_leaves': [20, 31, 40],               \n",
    "    'lambda_l1': [0, 0.1, 1],                 \n",
    "    'lambda_l2': [0, 0.1, 1],                 \n",
    "    'min_child_samples': [10, 20, 30]         \n",
    "\n",
    "}\n",
    "\n",
    "grid_search=GridSearchCV(lgbm,param_grid=parms,cv=5,scoring=\"accuracy\",n_jobs=-1,verbose=2)\n",
    "\n",
    "grid_search.fit(x_train,y_train)\n",
    "\n",
    "print(grid_search.best_params_)'''"
   ]
  },
  {
   "cell_type": "code",
   "execution_count": 90,
   "id": "2abce815-dac3-40b7-bb69-dea94e66f3f5",
   "metadata": {},
   "outputs": [
    {
     "name": "stdout",
     "output_type": "stream",
     "text": [
      "[LightGBM] [Info] Number of positive: 3502, number of negative: 3452\n",
      "[LightGBM] [Info] Auto-choosing row-wise multi-threading, the overhead of testing was 0.004376 seconds.\n",
      "You can set `force_row_wise=true` to remove the overhead.\n",
      "And if memory is not enough, you can set `force_col_wise=true`.\n",
      "[LightGBM] [Info] Total Bins 1371\n",
      "[LightGBM] [Info] Number of data points in the train set: 6954, number of used features: 12\n",
      "[LightGBM] [Info] [binary:BoostFromScore]: pavg=0.503595 -> initscore=0.014380\n",
      "[LightGBM] [Info] Start training from score 0.014380\n",
      "The model accuracy:  0.7826336975273146\n",
      "The model report:                precision    recall  f1-score   support\n",
      "\n",
      "           0       0.80      0.74      0.77       863\n",
      "           1       0.76      0.82      0.79       876\n",
      "\n",
      "    accuracy                           0.78      1739\n",
      "   macro avg       0.78      0.78      0.78      1739\n",
      "weighted avg       0.78      0.78      0.78      1739\n",
      "\n",
      "The Bais score:  0.8547598504457866\n",
      "The variance score:  0.7826336975273146\n"
     ]
    }
   ],
   "source": [
    "# LGBM\n",
    "import lightgbm as lgb\n",
    "\n",
    "lgbm=lgb.LGBMClassifier()\n",
    "\n",
    "lgbm.fit(x_train,y_train)\n",
    "\n",
    "y_pred=lgbm.predict(x_test)\n",
    "\n",
    "\n",
    "accuracy=accuracy_score(y_test,y_pred)\n",
    "report=classification_report(y_test,y_pred)\n",
    "\n",
    "print(\"The model accuracy: \",accuracy)\n",
    "print(\"The model report: \", report)\n",
    "\n",
    " \n",
    "bais=lgbm.score(x_train,y_train)\n",
    "var=lgbm.score(x_test,y_test)\n",
    "\n",
    "print(\"The Bais score: \", bais)\n",
    "\n",
    "print(\"The variance score: \", var)\n"
   ]
  },
  {
   "cell_type": "markdown",
   "id": "0d3bd950-cea7-4017-9191-e066e8b562ae",
   "metadata": {},
   "source": [
    "# Model 5"
   ]
  },
  {
   "cell_type": "code",
   "execution_count": 92,
   "id": "64d121e6-4dda-4bce-ae6c-91741ee0f063",
   "metadata": {},
   "outputs": [
    {
     "name": "stdout",
     "output_type": "stream",
     "text": [
      "{'alpha': 1.0}\n"
     ]
    }
   ],
   "source": [
    "# Bernoulli nb\n",
    "\n",
    "from sklearn.model_selection import GridSearchCV\n",
    "from sklearn.naive_bayes import BernoulliNB\n",
    "\n",
    "params = {'alpha': [0.1, 0.5, 1.0, 1.5, 2.0]}  \n",
    "\n",
    "nb = BernoulliNB()\n",
    "grid = GridSearchCV(nb, param_grid=params, cv=5, scoring='accuracy')\n",
    "grid.fit(x_train, y_train)\n",
    "\n",
    "print(grid.best_params_)  # Best alpha value\n"
   ]
  },
  {
   "cell_type": "code",
   "execution_count": 93,
   "id": "4afe3935-6a1c-4047-8b91-b2f893576c52",
   "metadata": {},
   "outputs": [
    {
     "name": "stdout",
     "output_type": "stream",
     "text": [
      "The model accuracy:  0.7464059804485337\n",
      "report:                precision    recall  f1-score   support\n",
      "\n",
      "           0       0.71      0.82      0.76       863\n",
      "           1       0.79      0.67      0.73       876\n",
      "\n",
      "    accuracy                           0.75      1739\n",
      "   macro avg       0.75      0.75      0.75      1739\n",
      "weighted avg       0.75      0.75      0.75      1739\n",
      "\n",
      "Bais:  0.7538107563991947\n",
      "Variance:  0.7464059804485337\n"
     ]
    }
   ],
   "source": [
    "# Bernoulli NB\n",
    "from sklearn.naive_bayes import BernoulliNB\n",
    "from sklearn.metrics import accuracy_score,classification_report\n",
    "\n",
    "nb=BernoulliNB(alpha=0.1)\n",
    "\n",
    "nb.fit(x_train,y_train)\n",
    "\n",
    "y_pred=nb.predict(x_test)\n",
    "\n",
    "\n",
    "accuracy = accuracy_score(y_test,y_pred)\n",
    "report=classification_report(y_test,y_pred)\n",
    "\n",
    "print(\"The model accuracy: \", accuracy)\n",
    "print(\"report: \",report)\n",
    "\n",
    "bais=nb.score(x_train,y_train)\n",
    "var=nb.score(x_test,y_test)\n",
    "\n",
    "print(\"Bais: \", bais)\n",
    "print(\"Variance: \",var)"
   ]
  },
  {
   "cell_type": "code",
   "execution_count": null,
   "id": "572e0316-0e62-4f1f-97ec-95abd0addfd5",
   "metadata": {},
   "outputs": [],
   "source": []
  },
  {
   "cell_type": "markdown",
   "id": "c44b1987-b883-4c84-9378-8b993ecd58d2",
   "metadata": {},
   "source": [
    "# Model 6"
   ]
  },
  {
   "cell_type": "code",
   "execution_count": 95,
   "id": "d67ef9f1-fe64-44d1-b18c-09579bd1454c",
   "metadata": {},
   "outputs": [
    {
     "name": "stdout",
     "output_type": "stream",
     "text": [
      "{'alpha': 1.0}\n"
     ]
    }
   ],
   "source": [
    "# Bernoulli nb\n",
    "\n",
    "from sklearn.model_selection import GridSearchCV\n",
    "from sklearn.naive_bayes import GaussianNB\n",
    "\n",
    "params = {'alpha': [0.1, 0.5, 1.0, 1.5, 2.0]}  \n",
    "\n",
    "gn = GaussianNB()\n",
    "grid = GridSearchCV(nb, param_grid=params, cv=5, scoring='accuracy')\n",
    "grid.fit(x_train, y_train)\n",
    "\n",
    "print(grid.best_params_)  # Best alpha value\n"
   ]
  },
  {
   "cell_type": "code",
   "execution_count": 96,
   "id": "fb0292d9-b93d-49d9-98c8-92cade1cde46",
   "metadata": {},
   "outputs": [
    {
     "name": "stdout",
     "output_type": "stream",
     "text": [
      "The model accuracy:  0.6912018401380103\n",
      "report:                precision    recall  f1-score   support\n",
      "\n",
      "           0       0.85      0.46      0.60       863\n",
      "           1       0.63      0.92      0.75       876\n",
      "\n",
      "    accuracy                           0.69      1739\n",
      "   macro avg       0.74      0.69      0.67      1739\n",
      "weighted avg       0.74      0.69      0.67      1739\n",
      "\n",
      "Bais:  0.7070750647109577\n",
      "Variance:  0.6912018401380103\n"
     ]
    }
   ],
   "source": [
    "# BGausian\n",
    "from sklearn.naive_bayes import GaussianNB\n",
    "from sklearn.metrics import accuracy_score,classification_report\n",
    "\n",
    "gn=GaussianNB()\n",
    "\n",
    "gn.fit(x_train,y_train)\n",
    "\n",
    "y_pred=gn.predict(x_test)\n",
    "\n",
    "\n",
    "accuracy = accuracy_score(y_test,y_pred)\n",
    "report=classification_report(y_test,y_pred)\n",
    "\n",
    "print(\"The model accuracy: \", accuracy)\n",
    "print(\"report: \",report)\n",
    "\n",
    "bais=gn.score(x_train,y_train)\n",
    "var=gn.score(x_test,y_test)\n",
    "\n",
    "print(\"Bais: \", bais)\n",
    "print(\"Variance: \",var)"
   ]
  },
  {
   "cell_type": "code",
   "execution_count": null,
   "id": "9e9a9c15-6cd6-4a3c-bf87-6f71d0784705",
   "metadata": {},
   "outputs": [],
   "source": []
  },
  {
   "cell_type": "markdown",
   "id": "e2d9cc1d-5aab-4a1f-b98c-4b16f1d290b5",
   "metadata": {},
   "source": [
    "# Model 7"
   ]
  },
  {
   "cell_type": "code",
   "execution_count": 98,
   "id": "b792b8ec-b7a7-49bc-a872-3bbabe0e03c3",
   "metadata": {},
   "outputs": [
    {
     "name": "stdout",
     "output_type": "stream",
     "text": [
      "Best Parameters: {'C': 1, 'gamma': 'auto', 'kernel': 'rbf'}\n"
     ]
    }
   ],
   "source": [
    "from sklearn.model_selection import GridSearchCV\n",
    "from sklearn.svm import SVC\n",
    "sv=SVC()\n",
    "params = {\n",
    "    'C': [0.1, 1, 10],       \n",
    "    'kernel': ['linear', 'rbf', 'poly'],  \n",
    "    'gamma': ['scale', 'auto'] \n",
    "}\n",
    "\n",
    "grid_svc = GridSearchCV(sv, param_grid=params, cv=5, scoring='accuracy')\n",
    "grid_svc.fit(x_train, y_train)\n",
    "\n",
    "print(\"Best Parameters:\", grid_svc.best_params_)"
   ]
  },
  {
   "cell_type": "code",
   "execution_count": 99,
   "id": "eb91ca78-85aa-4c91-a600-545e28b2e738",
   "metadata": {},
   "outputs": [
    {
     "name": "stdout",
     "output_type": "stream",
     "text": [
      "The model accuracy:  0.7809085681426107\n",
      "report:                precision    recall  f1-score   support\n",
      "\n",
      "           0       0.78      0.77      0.78       863\n",
      "           1       0.78      0.79      0.78       876\n",
      "\n",
      "    accuracy                           0.78      1739\n",
      "   macro avg       0.78      0.78      0.78      1739\n",
      "weighted avg       0.78      0.78      0.78      1739\n",
      "\n",
      "Bais:  0.8025596778832327\n",
      "Variance:  0.7809085681426107\n"
     ]
    }
   ],
   "source": [
    "\n",
    "sv=SVC(C=10, gamma=\"scale\",kernel=\"rbf\")\n",
    "\n",
    "sv.fit(x_train,y_train)\n",
    "\n",
    "y_pred=sv.predict(x_test)\n",
    "\n",
    "\n",
    "accuracy = accuracy_score(y_test,y_pred)\n",
    "report=classification_report(y_test,y_pred)\n",
    "\n",
    "print(\"The model accuracy: \", accuracy)\n",
    "print(\"report: \",report)\n",
    "\n",
    "bais=sv.score(x_train,y_train)\n",
    "var=sv.score(x_test,y_test)\n",
    "\n",
    "print(\"Bais: \", bais)\n",
    "print(\"Variance: \",var)\n"
   ]
  },
  {
   "cell_type": "code",
   "execution_count": null,
   "id": "dbc0bfc1-ee08-4856-90f3-e92601aa59e6",
   "metadata": {},
   "outputs": [],
   "source": []
  },
  {
   "cell_type": "markdown",
   "id": "7a86401e-f73c-4714-bac8-6ed95858138e",
   "metadata": {},
   "source": [
    "# Model 8"
   ]
  },
  {
   "cell_type": "code",
   "execution_count": 101,
   "id": "05e5493b-89dc-4d44-addc-42a387e5505e",
   "metadata": {},
   "outputs": [
    {
     "name": "stdout",
     "output_type": "stream",
     "text": [
      "{'n_neighbors': 31}\n"
     ]
    }
   ],
   "source": [
    "from sklearn.model_selection import GridSearchCV\n",
    "from sklearn.neighbors import KNeighborsClassifier\n",
    "\n",
    "knn=KNeighborsClassifier()\n",
    "params={\n",
    "    \"n_neighbors\": np.arange(1,50)\n",
    "}\n",
    "\n",
    "grid_knn=GridSearchCV(knn,param_grid=params,cv=5,scoring=\"accuracy\")\n",
    "grid_knn.fit(x_train,y_train)\n",
    "\n",
    "print(grid_knn.best_params_)\n"
   ]
  },
  {
   "cell_type": "code",
   "execution_count": 102,
   "id": "f0ed8133-976b-478c-8f8f-74840e84e5c7",
   "metadata": {},
   "outputs": [
    {
     "name": "stdout",
     "output_type": "stream",
     "text": [
      "model accuracy:  0.7717078780908568\n",
      "model report:                precision    recall  f1-score   support\n",
      "\n",
      "           0       0.79      0.74      0.76       863\n",
      "           1       0.76      0.80      0.78       876\n",
      "\n",
      "    accuracy                           0.77      1739\n",
      "   macro avg       0.77      0.77      0.77      1739\n",
      "weighted avg       0.77      0.77      0.77      1739\n",
      "\n",
      "bais:  0.8097497842968076\n",
      "variance:  0.7717078780908568\n"
     ]
    }
   ],
   "source": [
    "knn=KNeighborsClassifier(n_neighbors=13)\n",
    "\n",
    "knn.fit(x_train,y_train)\n",
    "\n",
    "y_pred=knn.predict(x_test)\n",
    "\n",
    "accuracy=accuracy_score(y_test,y_pred)\n",
    "report = classification_report(y_test,y_pred)\n",
    "\n",
    "bais=knn.score(x_train,y_train)\n",
    "var=knn.score(x_test,y_test)\n",
    "\n",
    "print(\"model accuracy: \", accuracy)\n",
    "print(\"model report: \",report)\n",
    "\n",
    "print(\"bais: \", bais)\n",
    "print(\"variance: \",var)"
   ]
  },
  {
   "cell_type": "code",
   "execution_count": null,
   "id": "21e5fddb-143b-4b32-a57a-f2b1eb569522",
   "metadata": {},
   "outputs": [],
   "source": []
  },
  {
   "cell_type": "markdown",
   "id": "868b6260-af31-4530-994f-afa87b98a32c",
   "metadata": {},
   "source": [
    "# Model 9"
   ]
  },
  {
   "cell_type": "code",
   "execution_count": 104,
   "id": "e9334498-53b9-4b56-8266-a24c24d337bd",
   "metadata": {},
   "outputs": [
    {
     "name": "stdout",
     "output_type": "stream",
     "text": [
      "{'learning_rate': 0.3, 'n_estimators': 50}\n"
     ]
    }
   ],
   "source": [
    "from sklearn.ensemble import GradientBoostingClassifier\n",
    "gs=GradientBoostingClassifier()\n",
    "\n",
    "params={\n",
    "    \"n_estimators\":[50,100,150,200],\n",
    "    \"learning_rate\":[0.1,0.3,1,0.001]\n",
    "}\n",
    "\n",
    "param_grid_gs=GridSearchCV(gs,param_grid=params,cv=5,scoring=\"accuracy\")\n",
    "\n",
    "param_grid_gs.fit(x_train,y_train)\n",
    "\n",
    "print(param_grid_gs.best_params_)"
   ]
  },
  {
   "cell_type": "code",
   "execution_count": 105,
   "id": "dfaa5989-89cd-4d22-b4db-d5a9a7494eb3",
   "metadata": {},
   "outputs": [
    {
     "name": "stdout",
     "output_type": "stream",
     "text": [
      "model accuracy:  0.780333525014376\n",
      "model report:                precision    recall  f1-score   support\n",
      "\n",
      "           0       0.81      0.73      0.77       863\n",
      "           1       0.76      0.83      0.79       876\n",
      "\n",
      "    accuracy                           0.78      1739\n",
      "   macro avg       0.78      0.78      0.78      1739\n",
      "weighted avg       0.78      0.78      0.78      1739\n",
      "\n",
      "bais:  0.815070463042853\n",
      "variance:  0.780333525014376\n"
     ]
    }
   ],
   "source": [
    "gs=GradientBoostingClassifier(n_estimators=150, learning_rate=0.1)\n",
    "\n",
    "\n",
    "gs.fit(x_train,y_train)\n",
    "\n",
    "y_pred=gs.predict(x_test)\n",
    "\n",
    "accuracy=accuracy_score(y_test,y_pred)\n",
    "report = classification_report(y_test,y_pred)\n",
    "\n",
    "bais=gs.score(x_train,y_train)\n",
    "var=gs.score(x_test,y_test)\n",
    "\n",
    "print(\"model accuracy: \", accuracy)\n",
    "print(\"model report: \",report)\n",
    "\n",
    "print(\"bais: \", bais)\n",
    "print(\"variance: \",var)"
   ]
  },
  {
   "cell_type": "code",
   "execution_count": null,
   "id": "975956b3-0081-4268-96e8-0228ef225905",
   "metadata": {},
   "outputs": [],
   "source": []
  },
  {
   "cell_type": "markdown",
   "id": "4f6b21b0-f384-457a-aed7-28ac0d3dad79",
   "metadata": {},
   "source": [
    "# Model 10"
   ]
  },
  {
   "cell_type": "code",
   "execution_count": 107,
   "id": "c3a68945-49a5-4a79-b896-c14db502a6be",
   "metadata": {},
   "outputs": [
    {
     "name": "stdout",
     "output_type": "stream",
     "text": [
      "{'n_estimators': 50}\n"
     ]
    }
   ],
   "source": [
    "from sklearn.ensemble import ExtraTreesClassifier\n",
    "ex=ExtraTreesClassifier()\n",
    "\n",
    "params = {\n",
    "    \"n_estimators\":[50,100,150,200]\n",
    "    \n",
    "}\n",
    "\n",
    "param_grid_ex=GridSearchCV(ex,param_grid=params,cv=5,scoring=\"accuracy\")\n",
    "\n",
    "param_grid_ex.fit(x_train,y_train)\n",
    "\n",
    "print(param_grid_ex.best_params_)"
   ]
  },
  {
   "cell_type": "code",
   "execution_count": 108,
   "id": "312ad28f-dd9e-4e31-998e-877694f65e6d",
   "metadata": {},
   "outputs": [
    {
     "name": "stdout",
     "output_type": "stream",
     "text": [
      "model accuracy:  0.7722829212190915\n",
      "model report:                precision    recall  f1-score   support\n",
      "\n",
      "           0       0.77      0.77      0.77       863\n",
      "           1       0.77      0.78      0.77       876\n",
      "\n",
      "    accuracy                           0.77      1739\n",
      "   macro avg       0.77      0.77      0.77      1739\n",
      "weighted avg       0.77      0.77      0.77      1739\n",
      "\n",
      "bais:  0.9319815933275812\n",
      "variance:  0.7722829212190915\n"
     ]
    }
   ],
   "source": [
    "ex=ExtraTreesClassifier(n_estimators=150)\n",
    "\n",
    "ex.fit(x_train,y_train)\n",
    "\n",
    "y_pred=ex.predict(x_test)\n",
    "\n",
    "\n",
    "accuracy=accuracy_score(y_test,y_pred)\n",
    "report = classification_report(y_test,y_pred)\n",
    "\n",
    "bais=ex.score(x_train,y_train)\n",
    "var=ex.score(x_test,y_test)\n",
    "\n",
    "print(\"model accuracy: \", accuracy)\n",
    "print(\"model report: \",report)\n",
    "\n",
    "print(\"bais: \", bais)\n",
    "print(\"variance: \",var)\n"
   ]
  },
  {
   "cell_type": "code",
   "execution_count": null,
   "id": "94ba7415-b7c9-46d5-8029-5004ba939336",
   "metadata": {},
   "outputs": [],
   "source": []
  },
  {
   "cell_type": "markdown",
   "id": "fe38d8f6-2332-4e23-988b-47d76bd4fce8",
   "metadata": {},
   "source": [
    "# Model 11"
   ]
  },
  {
   "cell_type": "code",
   "execution_count": 110,
   "id": "dac5fd05-a7aa-429a-aa1d-25b107ed573f",
   "metadata": {},
   "outputs": [
    {
     "name": "stdout",
     "output_type": "stream",
     "text": [
      "{'algorithm': 'SAMME.R', 'learning_rate': 0.1, 'n_estimators': 300}\n"
     ]
    }
   ],
   "source": [
    "from sklearn.ensemble import AdaBoostClassifier\n",
    "\n",
    "adb=AdaBoostClassifier()\n",
    "\n",
    "params={\n",
    "    \"n_estimators\":[50,100,150,200,250,300],\n",
    "    \"learning_rate\":[0.01,0.1,0.05,1,1.5],\n",
    "    \"algorithm\":[\"SAMME\",\"SAMME.R\"]\n",
    "}\n",
    "\n",
    "param_grid_adb=GridSearchCV(adb,param_grid=params,cv=5,scoring=\"accuracy\")\n",
    "\n",
    "param_grid_adb.fit(x_train,y_train)\n",
    "\n",
    "print(param_grid_adb.best_params_)"
   ]
  },
  {
   "cell_type": "code",
   "execution_count": 111,
   "id": "f42d6281-c192-4a23-84ed-316d0b68b50c",
   "metadata": {},
   "outputs": [
    {
     "name": "stdout",
     "output_type": "stream",
     "text": [
      "model accuracy:  0.7837837837837838\n",
      "model report:                precision    recall  f1-score   support\n",
      "\n",
      "           0       0.79      0.76      0.78       863\n",
      "           1       0.78      0.80      0.79       876\n",
      "\n",
      "    accuracy                           0.78      1739\n",
      "   macro avg       0.78      0.78      0.78      1739\n",
      "weighted avg       0.78      0.78      0.78      1739\n",
      "\n",
      "bais:  0.7976704055220017\n",
      "variance:  0.7837837837837838\n"
     ]
    }
   ],
   "source": [
    "adb=AdaBoostClassifier(n_estimators=250,algorithm=\"SAMME.R\",learning_rate=0.1)\n",
    "\n",
    "adb.fit(x_train,y_train)\n",
    "y_pred=adb.predict(x_test)\n",
    "\n",
    "accuracy=accuracy_score(y_test,y_pred)\n",
    "report = classification_report(y_test,y_pred)\n",
    "\n",
    "bais=adb.score(x_train,y_train)\n",
    "var=adb.score(x_test,y_test)\n",
    "\n",
    "print(\"model accuracy: \", accuracy)\n",
    "print(\"model report: \",report)\n",
    "\n",
    "print(\"bais: \", bais)\n",
    "print(\"variance: \",var)\n",
    "\n"
   ]
  },
  {
   "cell_type": "code",
   "execution_count": null,
   "id": "109f0720-3d42-4ca7-9a75-c22cd3ffd565",
   "metadata": {},
   "outputs": [],
   "source": []
  },
  {
   "cell_type": "code",
   "execution_count": null,
   "id": "8f7c5001-508b-4f0e-90d1-400205a1d52e",
   "metadata": {},
   "outputs": [],
   "source": []
  },
  {
   "cell_type": "code",
   "execution_count": null,
   "id": "15ecaf5e-ee8d-4b9d-9a55-0205909ec83f",
   "metadata": {},
   "outputs": [],
   "source": []
  },
  {
   "cell_type": "code",
   "execution_count": null,
   "id": "05f4b538-fbd0-4e52-95a9-289ff6f852eb",
   "metadata": {},
   "outputs": [],
   "source": []
  },
  {
   "cell_type": "code",
   "execution_count": 112,
   "id": "ff414a56-4032-4c80-b945-42fdb14e8b9d",
   "metadata": {},
   "outputs": [
    {
     "data": {
      "text/plain": [
       "array([1, 4, 9])"
      ]
     },
     "execution_count": 112,
     "metadata": {},
     "output_type": "execute_result"
    }
   ],
   "source": [
    "l=[1,2,3]\n",
    "squre=np.array(l)**2\n",
    "squre"
   ]
  },
  {
   "cell_type": "code",
   "execution_count": 113,
   "id": "3c443fd5-a687-4fd2-8042-c527f37adb71",
   "metadata": {},
   "outputs": [
    {
     "data": {
      "text/plain": [
       "[1, 4, 9, 16]"
      ]
     },
     "execution_count": 113,
     "metadata": {},
     "output_type": "execute_result"
    }
   ],
   "source": [
    "l=[1,2,3,4]\n",
    "\n",
    "squared_list = list(map(lambda x: x**2, l))\n",
    "squared_list\n"
   ]
  },
  {
   "cell_type": "code",
   "execution_count": 114,
   "id": "668af41e-9963-4624-a7c7-feb3da5a177f",
   "metadata": {},
   "outputs": [
    {
     "data": {
      "text/plain": [
       "[1, 4, 9, 16, 25, 16, 25, 36, 49, 64, 81, 25, 1156, 529]"
      ]
     },
     "execution_count": 114,
     "metadata": {},
     "output_type": "execute_result"
    }
   ],
   "source": [
    "l=[1,2,3,4,5,4,5,6,7,8,9,5,34,23]\n",
    "squre=[]\n",
    "for i in l:\n",
    "    s=i**2\n",
    "    squre.append(s)\n",
    "squre\n",
    "    "
   ]
  },
  {
   "cell_type": "markdown",
   "id": "216cbcd9-e762-4832-b89b-f77dd5b0d9d8",
   "metadata": {},
   "source": [
    "###### "
   ]
  },
  {
   "cell_type": "code",
   "execution_count": 116,
   "id": "e9e8dc30-9f1d-46ac-bd80-739f3fde2c21",
   "metadata": {},
   "outputs": [
    {
     "name": "stdout",
     "output_type": "stream",
     "text": [
      "Gini Accuracy: 1.0\n",
      "Entropy Accuracy: 1.0\n"
     ]
    }
   ],
   "source": [
    "from sklearn.tree import DecisionTreeClassifier\n",
    "from sklearn.datasets import load_iris\n",
    "from sklearn.model_selection import train_test_split\n",
    "from sklearn.metrics import accuracy_score\n",
    "\n",
    "# Load dataset\n",
    "iris = load_iris()\n",
    "X_train, X_test, y_train, y_test = train_test_split(iris.data, iris.target, test_size=0.2, random_state=42)\n",
    "\n",
    "# Gini Decision Tree\n",
    "dt_gini = DecisionTreeClassifier(criterion='gini')\n",
    "dt_gini.fit(X_train, y_train)\n",
    "y_pred_gini = dt_gini.predict(X_test)\n",
    "\n",
    "# Entropy Decision Tree\n",
    "dt_entropy = DecisionTreeClassifier(criterion='entropy')\n",
    "dt_entropy.fit(X_train, y_train)\n",
    "y_pred_entropy = dt_entropy.predict(X_test)\n",
    "\n",
    "# Compare Accuracy\n",
    "print(\"Gini Accuracy:\", accuracy_score(y_test, y_pred_gini))\n",
    "print(\"Entropy Accuracy:\", accuracy_score(y_test, y_pred_entropy))\n"
   ]
  },
  {
   "cell_type": "code",
   "execution_count": 117,
   "id": "ad8dd3e9-b191-4a6e-b11b-78ac041b20fe",
   "metadata": {},
   "outputs": [
    {
     "data": {
      "image/png": "[encoded data removed]",
      "text/plain": [
       "<Figure size 1000x600 with 1 Axes>"
      ]
     },
     "metadata": {},
     "output_type": "display_data"
    }
   ],
   "source": [
    "import numpy as np\n",
    "import matplotlib.pyplot as plt\n",
    "\n",
    "# Define activation functions\n",
    "def relu(x):\n",
    "    return np.maximum(0, x)\n",
    "\n",
    "def sigmoid(x):\n",
    "    return 1 / (1 + np.exp(-x))\n",
    "\n",
    "def tanh(x):\n",
    "    return np.tanh(x)\n",
    "\n",
    "# Generate input values\n",
    "x = np.linspace(-5, 5, 100)\n",
    "\n",
    "# Plot the activation functions\n",
    "plt.figure(figsize=(10, 6))\n",
    "plt.plot(x, relu(x), label=\"ReLU\")\n",
    "plt.plot(x, sigmoid(x), label=\"Sigmoid\")\n",
    "plt.plot(x, tanh(x), label=\"Tanh\")\n",
    "plt.legend()\n",
    "plt.title(\"Activation Functions\")\n",
    "plt.grid()\n",
    "plt.show()\n"
   ]
  },
  {
   "cell_type": "code",
   "execution_count": null,
   "id": "43928f14-6ea1-4f69-a6ce-456a5079b5ed",
   "metadata": {},
   "outputs": [],
   "source": []
  }
 ],
 "metadata": {
  "kernelspec": {
   "display_name": "Python 3 (ipykernel)",
   "language": "python",
   "name": "python3"
  },
  "language_info": {
   "codemirror_mode": {
    "name": "ipython",
    "version": 3
   },
   "file_extension": ".py",
   "mimetype": "text/x-python",
   "name": "python",
   "nbconvert_exporter": "python",
   "pygments_lexer": "ipython3",
   "version": "3.12.3"
  }
 },
 "nbformat": 4,
 "nbformat_minor": 5
}
